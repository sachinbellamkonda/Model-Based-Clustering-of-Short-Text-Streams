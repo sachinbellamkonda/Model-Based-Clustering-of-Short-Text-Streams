{
 "cells": [
  {
   "cell_type": "code",
   "execution_count": 1,
   "metadata": {
    "id": "CjI_SqHygEr1"
   },
   "outputs": [],
   "source": [
    "import json\n",
    "import os"
   ]
  },
  {
   "cell_type": "code",
   "execution_count": 2,
   "metadata": {
    "id": "c9C5DyQagEr4"
   },
   "outputs": [],
   "source": [
    "dataDir = r\"C:\\Users\\sachin\\Desktop\\mtp\\sachin\\data\""
   ]
  },
  {
   "cell_type": "code",
   "execution_count": 3,
   "metadata": {
    "id": "K2EdDrdJgEr4"
   },
   "outputs": [],
   "source": [
    "dataset = \"Tweets-T\""
   ]
  },
  {
   "cell_type": "code",
   "execution_count": 4,
   "metadata": {
    "id": "4NR-L_ZcgEr5"
   },
   "outputs": [],
   "source": [
    "true_c=[None]*120000"
   ]
  },
  {
   "cell_type": "code",
   "execution_count": 5,
   "metadata": {
    "id": "rd5lw7O1gEr5"
   },
   "outputs": [],
   "source": [
    " with open(os.path.join(dataDir,dataset)) as input:\n",
    "        line = input.readline()\n",
    "        k=0\n",
    "        while line:\n",
    "            k=k+1\n",
    "            obj = json.loads(line)\n",
    "            text = obj['textCleaned']\n",
    "            true_c[int(obj['Id'])]=obj['clusterNo']\n",
    "            \n",
    "            #print( obj['Id']+ \"   \" +text)\n",
    "            #words_csv[k]=text\n",
    "            line = input.readline()\n",
    "            if (\"\" == line):break;"
   ]
  },
  {
   "cell_type": "code",
   "execution_count": 6,
   "metadata": {
    "id": "I7Qy1hwwgEr6",
    "outputId": "f5ea094a-5759-4d86-81a4-525da0db910f"
   },
   "outputs": [
    {
     "data": {
      "text/plain": [
       "[None,\n",
       " 9,\n",
       " 23,\n",
       " 27,\n",
       " 9,\n",
       " 3,\n",
       " 10,\n",
       " 9,\n",
       " 1,\n",
       " 23,\n",
       " 20,\n",
       " 24,\n",
       " 30,\n",
       " 4,\n",
       " 24,\n",
       " 10,\n",
       " 26,\n",
       " 12,\n",
       " 23,\n",
       " 7,\n",
       " 4,\n",
       " 22,\n",
       " 21,\n",
       " 29,\n",
       " 31,\n",
       " 7,\n",
       " 9,\n",
       " 20,\n",
       " 8,\n",
       " 21,\n",
       " 7,\n",
       " 9,\n",
       " 22,\n",
       " 19,\n",
       " 26,\n",
       " 25,\n",
       " 29,\n",
       " 27,\n",
       " 9,\n",
       " 29,\n",
       " 14,\n",
       " 10,\n",
       " 7,\n",
       " 29,\n",
       " 7,\n",
       " 30,\n",
       " 7,\n",
       " 4,\n",
       " 14,\n",
       " 4,\n",
       " 23,\n",
       " 1,\n",
       " 13,\n",
       " 8,\n",
       " 14,\n",
       " 4,\n",
       " 4,\n",
       " 26,\n",
       " 32,\n",
       " 14,\n",
       " 9,\n",
       " 22,\n",
       " 7,\n",
       " 4,\n",
       " 8,\n",
       " 30,\n",
       " 26,\n",
       " 27,\n",
       " 14,\n",
       " 5,\n",
       " 22,\n",
       " 7,\n",
       " 24,\n",
       " 7,\n",
       " 8,\n",
       " 13,\n",
       " 15,\n",
       " 5,\n",
       " 14,\n",
       " 24,\n",
       " 21,\n",
       " 4,\n",
       " 20,\n",
       " 9,\n",
       " 1,\n",
       " 22,\n",
       " 3,\n",
       " 7,\n",
       " 20,\n",
       " 20,\n",
       " 26,\n",
       " 29,\n",
       " 17,\n",
       " 4,\n",
       " 22,\n",
       " 20,\n",
       " 18,\n",
       " 19,\n",
       " 4,\n",
       " 9,\n",
       " 29,\n",
       " 22,\n",
       " 5,\n",
       " 25,\n",
       " 29,\n",
       " 20,\n",
       " 27,\n",
       " 21,\n",
       " 24,\n",
       " 1,\n",
       " 21,\n",
       " 17,\n",
       " 8,\n",
       " 17,\n",
       " 4,\n",
       " 7,\n",
       " 32,\n",
       " 22,\n",
       " 26,\n",
       " 7,\n",
       " 21,\n",
       " 23,\n",
       " 27,\n",
       " 27,\n",
       " 4,\n",
       " 7,\n",
       " 11,\n",
       " 8,\n",
       " 7,\n",
       " 4,\n",
       " 26,\n",
       " 22,\n",
       " 22,\n",
       " 20,\n",
       " 22,\n",
       " 30,\n",
       " 29,\n",
       " 9,\n",
       " 24,\n",
       " 26,\n",
       " 26,\n",
       " 23,\n",
       " 7,\n",
       " 25,\n",
       " 2,\n",
       " 4,\n",
       " 21,\n",
       " 14,\n",
       " 8,\n",
       " 7,\n",
       " 29,\n",
       " 7,\n",
       " 4,\n",
       " 20,\n",
       " 13,\n",
       " 4,\n",
       " 26,\n",
       " 21,\n",
       " 6,\n",
       " 30,\n",
       " 19,\n",
       " 19,\n",
       " 14,\n",
       " 14,\n",
       " 24,\n",
       " 14,\n",
       " 14,\n",
       " 14,\n",
       " 30,\n",
       " 28,\n",
       " 25,\n",
       " 8,\n",
       " 22,\n",
       " 29,\n",
       " 20,\n",
       " 20,\n",
       " 22,\n",
       " 23,\n",
       " 20,\n",
       " 9,\n",
       " 10,\n",
       " 14,\n",
       " 6,\n",
       " 21,\n",
       " 24,\n",
       " 17,\n",
       " 22,\n",
       " 4,\n",
       " 20,\n",
       " 29,\n",
       " 21,\n",
       " 26,\n",
       " 30,\n",
       " 24,\n",
       " 30,\n",
       " 26,\n",
       " 22,\n",
       " 23,\n",
       " 20,\n",
       " 20,\n",
       " 1,\n",
       " 17,\n",
       " 7,\n",
       " 10,\n",
       " 30,\n",
       " 7,\n",
       " 21,\n",
       " 4,\n",
       " 22,\n",
       " 22,\n",
       " 30,\n",
       " 14,\n",
       " 29,\n",
       " 21,\n",
       " 22,\n",
       " 9,\n",
       " 17,\n",
       " 27,\n",
       " 20,\n",
       " 26,\n",
       " 29,\n",
       " 17,\n",
       " 27,\n",
       " 8,\n",
       " 8,\n",
       " 4,\n",
       " 20,\n",
       " 21,\n",
       " 7,\n",
       " 20,\n",
       " 25,\n",
       " 30,\n",
       " 20,\n",
       " 20,\n",
       " 14,\n",
       " 10,\n",
       " 17,\n",
       " 21,\n",
       " 31,\n",
       " 22,\n",
       " 23,\n",
       " 14,\n",
       " 23,\n",
       " 9,\n",
       " 8,\n",
       " 23,\n",
       " 4,\n",
       " 26,\n",
       " 8,\n",
       " 26,\n",
       " 24,\n",
       " 24,\n",
       " 29,\n",
       " 24,\n",
       " 32,\n",
       " 25,\n",
       " 29,\n",
       " 20,\n",
       " 14,\n",
       " 26,\n",
       " 30,\n",
       " 9,\n",
       " 4,\n",
       " 12,\n",
       " 29,\n",
       " 26,\n",
       " 32,\n",
       " 14,\n",
       " 20,\n",
       " 4,\n",
       " 9,\n",
       " 7,\n",
       " 7,\n",
       " 25,\n",
       " 9,\n",
       " 9,\n",
       " 7,\n",
       " 23,\n",
       " 20,\n",
       " 25,\n",
       " 26,\n",
       " 7,\n",
       " 20,\n",
       " 24,\n",
       " 7,\n",
       " 14,\n",
       " 27,\n",
       " 25,\n",
       " 14,\n",
       " 22,\n",
       " 14,\n",
       " 25,\n",
       " 20,\n",
       " 8,\n",
       " 27,\n",
       " 24,\n",
       " 27,\n",
       " 29,\n",
       " 17,\n",
       " 17,\n",
       " 29,\n",
       " 20,\n",
       " 13,\n",
       " 3,\n",
       " 8,\n",
       " 24,\n",
       " 13,\n",
       " 21,\n",
       " 29,\n",
       " 23,\n",
       " 14,\n",
       " 24,\n",
       " 23,\n",
       " 23,\n",
       " 9,\n",
       " 26,\n",
       " 7,\n",
       " 17,\n",
       " 4,\n",
       " 29,\n",
       " 19,\n",
       " 4,\n",
       " 21,\n",
       " 10,\n",
       " 20,\n",
       " 8,\n",
       " 9,\n",
       " 32,\n",
       " 10,\n",
       " 1,\n",
       " 24,\n",
       " 20,\n",
       " 22,\n",
       " 10,\n",
       " 32,\n",
       " 24,\n",
       " 25,\n",
       " 14,\n",
       " 23,\n",
       " 29,\n",
       " 1,\n",
       " 14,\n",
       " 27,\n",
       " 9,\n",
       " 25,\n",
       " 4,\n",
       " 32,\n",
       " 25,\n",
       " 4,\n",
       " 9,\n",
       " 2,\n",
       " 14,\n",
       " 14,\n",
       " 3,\n",
       " 20,\n",
       " 9,\n",
       " 4,\n",
       " 12,\n",
       " 22,\n",
       " 14,\n",
       " 17,\n",
       " 29,\n",
       " 9,\n",
       " 25,\n",
       " 24,\n",
       " 20,\n",
       " 8,\n",
       " 10,\n",
       " 22,\n",
       " 29,\n",
       " 25,\n",
       " 8,\n",
       " 17,\n",
       " 14,\n",
       " 30,\n",
       " 21,\n",
       " 21,\n",
       " 32,\n",
       " 14,\n",
       " 1,\n",
       " 4,\n",
       " 24,\n",
       " 32,\n",
       " 22,\n",
       " 9,\n",
       " 20,\n",
       " 32,\n",
       " 7,\n",
       " 3,\n",
       " 16,\n",
       " 19,\n",
       " 21,\n",
       " 20,\n",
       " 21,\n",
       " 14,\n",
       " 20,\n",
       " 21,\n",
       " 24,\n",
       " 9,\n",
       " 24,\n",
       " 21,\n",
       " 25,\n",
       " 2,\n",
       " 21,\n",
       " 24,\n",
       " 27,\n",
       " 29,\n",
       " 8,\n",
       " 22,\n",
       " 20,\n",
       " 30,\n",
       " 25,\n",
       " 25,\n",
       " 14,\n",
       " 9,\n",
       " 22,\n",
       " 21,\n",
       " 21,\n",
       " 21,\n",
       " 7,\n",
       " 29,\n",
       " 21,\n",
       " 9,\n",
       " 9,\n",
       " 21,\n",
       " 20,\n",
       " 9,\n",
       " 10,\n",
       " 4,\n",
       " 7,\n",
       " 30,\n",
       " 14,\n",
       " 32,\n",
       " 4,\n",
       " 7,\n",
       " 14,\n",
       " 21,\n",
       " 8,\n",
       " 9,\n",
       " 23,\n",
       " 28,\n",
       " 21,\n",
       " 9,\n",
       " 10,\n",
       " 11,\n",
       " 8,\n",
       " 22,\n",
       " 1,\n",
       " 10,\n",
       " 14,\n",
       " 13,\n",
       " 32,\n",
       " 21,\n",
       " 21,\n",
       " 21,\n",
       " 26,\n",
       " 20,\n",
       " 31,\n",
       " 6,\n",
       " 22,\n",
       " 26,\n",
       " 4,\n",
       " 27,\n",
       " 14,\n",
       " 1,\n",
       " 4,\n",
       " 27,\n",
       " 20,\n",
       " 17,\n",
       " 17,\n",
       " 9,\n",
       " 20,\n",
       " 20,\n",
       " 30,\n",
       " 21,\n",
       " 20,\n",
       " 7,\n",
       " 9,\n",
       " 8,\n",
       " 21,\n",
       " 17,\n",
       " 3,\n",
       " 3,\n",
       " 24,\n",
       " 4,\n",
       " 26,\n",
       " 11,\n",
       " 9,\n",
       " 23,\n",
       " 7,\n",
       " 29,\n",
       " 20,\n",
       " 21,\n",
       " 22,\n",
       " 22,\n",
       " 20,\n",
       " 29,\n",
       " 7,\n",
       " 8,\n",
       " 17,\n",
       " 7,\n",
       " 20,\n",
       " 24,\n",
       " 20,\n",
       " 24,\n",
       " 4,\n",
       " 28,\n",
       " 25,\n",
       " 31,\n",
       " 25,\n",
       " 22,\n",
       " 27,\n",
       " 22,\n",
       " 20,\n",
       " 1,\n",
       " 17,\n",
       " 7,\n",
       " 3,\n",
       " 14,\n",
       " 19,\n",
       " 1,\n",
       " 7,\n",
       " 8,\n",
       " 21,\n",
       " 30,\n",
       " 26,\n",
       " 14,\n",
       " 19,\n",
       " 29,\n",
       " 9,\n",
       " 10,\n",
       " 14,\n",
       " 21,\n",
       " 14,\n",
       " 24,\n",
       " 9,\n",
       " 2,\n",
       " 20,\n",
       " 7,\n",
       " 4,\n",
       " 21,\n",
       " 17,\n",
       " 14,\n",
       " 21,\n",
       " 22,\n",
       " 21,\n",
       " 20,\n",
       " 21,\n",
       " 24,\n",
       " 2,\n",
       " 20,\n",
       " 9,\n",
       " 9,\n",
       " 25,\n",
       " 20,\n",
       " 29,\n",
       " 23,\n",
       " 23,\n",
       " 21,\n",
       " 1,\n",
       " 30,\n",
       " 29,\n",
       " 21,\n",
       " 5,\n",
       " 23,\n",
       " 4,\n",
       " 4,\n",
       " 27,\n",
       " 9,\n",
       " 10,\n",
       " 20,\n",
       " 1,\n",
       " 23,\n",
       " 25,\n",
       " 24,\n",
       " 24,\n",
       " 23,\n",
       " 9,\n",
       " 21,\n",
       " 24,\n",
       " 17,\n",
       " 24,\n",
       " 14,\n",
       " 26,\n",
       " 7,\n",
       " 26,\n",
       " 20,\n",
       " 30,\n",
       " 29,\n",
       " 22,\n",
       " 30,\n",
       " 28,\n",
       " 27,\n",
       " 20,\n",
       " 26,\n",
       " 7,\n",
       " 6,\n",
       " 17,\n",
       " 26,\n",
       " 20,\n",
       " 26,\n",
       " 30,\n",
       " 29,\n",
       " 14,\n",
       " 8,\n",
       " 21,\n",
       " 27,\n",
       " 25,\n",
       " 14,\n",
       " 24,\n",
       " 7,\n",
       " 23,\n",
       " 19,\n",
       " 21,\n",
       " 27,\n",
       " 7,\n",
       " 29,\n",
       " 14,\n",
       " 26,\n",
       " 8,\n",
       " 19,\n",
       " 4,\n",
       " 1,\n",
       " 21,\n",
       " 21,\n",
       " 26,\n",
       " 26,\n",
       " 26,\n",
       " 8,\n",
       " 7,\n",
       " 30,\n",
       " 29,\n",
       " 14,\n",
       " 32,\n",
       " 21,\n",
       " 2,\n",
       " 20,\n",
       " 25,\n",
       " 21,\n",
       " 17,\n",
       " 9,\n",
       " 32,\n",
       " 29,\n",
       " 30,\n",
       " 24,\n",
       " 8,\n",
       " 26,\n",
       " 13,\n",
       " 8,\n",
       " 4,\n",
       " 21,\n",
       " 22,\n",
       " 19,\n",
       " 30,\n",
       " 3,\n",
       " 1,\n",
       " 23,\n",
       " 13,\n",
       " 9,\n",
       " 22,\n",
       " 22,\n",
       " 22,\n",
       " 24,\n",
       " 19,\n",
       " 21,\n",
       " 23,\n",
       " 2,\n",
       " 21,\n",
       " 4,\n",
       " 22,\n",
       " 20,\n",
       " 22,\n",
       " 25,\n",
       " 26,\n",
       " 9,\n",
       " 6,\n",
       " 9,\n",
       " 21,\n",
       " 29,\n",
       " 3,\n",
       " 23,\n",
       " 4,\n",
       " 7,\n",
       " 9,\n",
       " 20,\n",
       " 28,\n",
       " 21,\n",
       " 8,\n",
       " 31,\n",
       " 19,\n",
       " 14,\n",
       " 14,\n",
       " 23,\n",
       " 27,\n",
       " 26,\n",
       " 4,\n",
       " 21,\n",
       " 7,\n",
       " 19,\n",
       " 29,\n",
       " 20,\n",
       " 1,\n",
       " 20,\n",
       " 26,\n",
       " 14,\n",
       " 21,\n",
       " 20,\n",
       " 19,\n",
       " 26,\n",
       " 21,\n",
       " 7,\n",
       " 32,\n",
       " 21,\n",
       " 9,\n",
       " 17,\n",
       " 22,\n",
       " 4,\n",
       " 29,\n",
       " 24,\n",
       " 11,\n",
       " 27,\n",
       " 26,\n",
       " 3,\n",
       " 21,\n",
       " 26,\n",
       " 1,\n",
       " 19,\n",
       " 23,\n",
       " 4,\n",
       " 23,\n",
       " 21,\n",
       " 22,\n",
       " 26,\n",
       " 21,\n",
       " 19,\n",
       " 8,\n",
       " 25,\n",
       " 19,\n",
       " 30,\n",
       " 4,\n",
       " 1,\n",
       " 23,\n",
       " 10,\n",
       " 10,\n",
       " 24,\n",
       " 24,\n",
       " 23,\n",
       " 27,\n",
       " 7,\n",
       " 29,\n",
       " 23,\n",
       " 20,\n",
       " 30,\n",
       " 10,\n",
       " 4,\n",
       " 25,\n",
       " 29,\n",
       " 7,\n",
       " 23,\n",
       " 9,\n",
       " 30,\n",
       " 23,\n",
       " 22,\n",
       " 29,\n",
       " 7,\n",
       " 17,\n",
       " 17,\n",
       " 29,\n",
       " 8,\n",
       " 22,\n",
       " 26,\n",
       " 20,\n",
       " 10,\n",
       " 23,\n",
       " 26,\n",
       " 1,\n",
       " 22,\n",
       " 20,\n",
       " 20,\n",
       " 8,\n",
       " 14,\n",
       " 4,\n",
       " 19,\n",
       " 9,\n",
       " 1,\n",
       " 13,\n",
       " 26,\n",
       " 7,\n",
       " 14,\n",
       " 29,\n",
       " 7,\n",
       " 20,\n",
       " 29,\n",
       " 22,\n",
       " 25,\n",
       " 14,\n",
       " 32,\n",
       " 22,\n",
       " 31,\n",
       " 1,\n",
       " 9,\n",
       " 29,\n",
       " 17,\n",
       " 21,\n",
       " 25,\n",
       " 20,\n",
       " 8,\n",
       " 24,\n",
       " 23,\n",
       " 4,\n",
       " 9,\n",
       " 26,\n",
       " 23,\n",
       " 27,\n",
       " 14,\n",
       " 7,\n",
       " 8,\n",
       " 26,\n",
       " 9,\n",
       " 22,\n",
       " 9,\n",
       " 14,\n",
       " 24,\n",
       " 24,\n",
       " 4,\n",
       " 24,\n",
       " 20,\n",
       " 1,\n",
       " 24,\n",
       " 9,\n",
       " 4,\n",
       " 21,\n",
       " 26,\n",
       " 32,\n",
       " 9,\n",
       " 29,\n",
       " 30,\n",
       " 8,\n",
       " 23,\n",
       " 32,\n",
       " 20,\n",
       " 19,\n",
       " 10,\n",
       " 9,\n",
       " 1,\n",
       " 27,\n",
       " 15,\n",
       " 21,\n",
       " 3,\n",
       " 26,\n",
       " 17,\n",
       " 2,\n",
       " 9,\n",
       " 20,\n",
       " 7,\n",
       " 25,\n",
       " 30,\n",
       " 17,\n",
       " 27,\n",
       " 25,\n",
       " 29,\n",
       " 30,\n",
       " 1,\n",
       " 26,\n",
       " 26,\n",
       " 20,\n",
       " 3,\n",
       " 19,\n",
       " 32,\n",
       " 20,\n",
       " 24,\n",
       " 8,\n",
       " 9,\n",
       " 26,\n",
       " 23,\n",
       " 9,\n",
       " 17,\n",
       " 30,\n",
       " 26,\n",
       " 9,\n",
       " 9,\n",
       " 21,\n",
       " 26,\n",
       " 19,\n",
       " 17,\n",
       " 8,\n",
       " 25,\n",
       " 23,\n",
       " 14,\n",
       " 8,\n",
       " 27,\n",
       " 23,\n",
       " 22,\n",
       " 20,\n",
       " 23,\n",
       " 4,\n",
       " 25,\n",
       " 29,\n",
       " 26,\n",
       " 23,\n",
       " 22,\n",
       " 22,\n",
       " 20,\n",
       " 7,\n",
       " 22,\n",
       " 29,\n",
       " 17,\n",
       " 27,\n",
       " 20,\n",
       " 2,\n",
       " 5,\n",
       " 32,\n",
       " 13,\n",
       " 1,\n",
       " 14,\n",
       " 24,\n",
       " 25,\n",
       " 23,\n",
       " 4,\n",
       " 22,\n",
       " 3,\n",
       " 22,\n",
       " 26,\n",
       " 21,\n",
       " 21,\n",
       " 24,\n",
       " 20,\n",
       " 9,\n",
       " 22,\n",
       " 26,\n",
       " 17,\n",
       " 21,\n",
       " 7,\n",
       " 26,\n",
       " 4,\n",
       " 21,\n",
       " 19,\n",
       " 20,\n",
       " 30,\n",
       " 22,\n",
       " 22,\n",
       " 9,\n",
       " 8,\n",
       " 4,\n",
       " 17,\n",
       " 26,\n",
       " 29,\n",
       " 13,\n",
       " 23,\n",
       " 26,\n",
       " 23,\n",
       " 24,\n",
       " 3,\n",
       " 7,\n",
       " 14,\n",
       " 21,\n",
       " 7,\n",
       " 9,\n",
       " 22,\n",
       " 8,\n",
       " 25,\n",
       " 4,\n",
       " 8,\n",
       " 7,\n",
       " 21,\n",
       " 26,\n",
       " 20,\n",
       " 9,\n",
       " 22,\n",
       " 21,\n",
       " 7,\n",
       " 21,\n",
       " 19,\n",
       " 25,\n",
       " 27,\n",
       " 29,\n",
       " 19,\n",
       " 7,\n",
       " 25,\n",
       " 30,\n",
       " 30,\n",
       " 7,\n",
       " 21,\n",
       " 14,\n",
       " 20,\n",
       " 19,\n",
       " 29,\n",
       " 27,\n",
       " 26,\n",
       " 7,\n",
       " 21,\n",
       " 23,\n",
       " 9,\n",
       " 3,\n",
       " 9,\n",
       " 27,\n",
       " 27,\n",
       " 5,\n",
       " 23,\n",
       " 21,\n",
       " ...]"
      ]
     },
     "execution_count": 6,
     "metadata": {},
     "output_type": "execute_result"
    }
   ],
   "source": [
    "true_c"
   ]
  },
  {
   "cell_type": "code",
   "execution_count": 7,
   "metadata": {
    "id": "-S3cgSYcgEr9"
   },
   "outputs": [],
   "source": [
    "def b_num(file_name):\n",
    "    s=len(file_name)\n",
    "    ans=0\n",
    "    if(file_name[s-2]>'0' and file_name[s-2]<='9' ):\n",
    "        ans=int(file_name[s-2])*10 +int(file_name[s-1])\n",
    "        return ans\n",
    "    return int(file_name[s-1])"
   ]
  },
  {
   "cell_type": "code",
   "execution_count": 8,
   "metadata": {
    "id": "xo8pwdoagEr-",
    "outputId": "e0edd331-1257-4037-8a5f-0126c7c87638",
    "scrolled": true
   },
   "outputs": [
    {
     "name": "stdout",
     "output_type": "stream",
     "text": [
      "0.8429531364466163\n",
      "0.9461535983777408\n",
      "0.9220860938409925\n",
      "0.8366196381393723\n",
      "0.8582676065960377\n",
      "0.740675360004059\n",
      "0.7086088917145754\n",
      "0.5979777228876362\n",
      "0.7994429041181178\n",
      "0.8156178562975993\n",
      "0.8237072967864693\n",
      "0.8046056320820889\n",
      "0.8041814803600968\n",
      "0.8800391091803376\n",
      "0.8785956849330395\n",
      "0.8831088429346386\n",
      "total_complete 0.8275666857326102\n",
      "total 0.8286625061534048\n",
      "mean 0.8214150534187137\n"
     ]
    }
   ],
   "source": [
    "import os\n",
    "import re\n",
    "from sklearn import metrics\n",
    "from statistics import mean\n",
    "a=[]\n",
    "b=[]\n",
    "t_a=[]\n",
    "t_b=[]\n",
    "ans=[]\n",
    "g_nmi_M=[None] *16\n",
    "g_complete_score_M=[None]*16\n",
    "g_homogenity_M=[None]*16\n",
    "di = r\"C:\\Users\\sachin\\Desktop\\mtp\\sachin\\result\"\n",
    "i=0\n",
    "\n",
    "for filename in os.listdir(di):\n",
    "    #print(filename)\n",
    "    \n",
    "    \n",
    "    temp=di+\"/\" + filename + \"/Tweets-TSampleNo1ClusteringResult.txt\"\n",
    "  #  print(temp)\n",
    "    file1=open(temp,\"r\")\n",
    "    #print(file1)\n",
    "\n",
    "    lines = file1.readlines()\n",
    "    \n",
    "    for line in lines:\n",
    "        line = line.strip()\n",
    "\n",
    "        arr = re.split(\" \", line)\n",
    "        t_a.append(true_c[int(arr[0])])\n",
    "        t_b.append(arr[1])\n",
    "        a.append(true_c[int(arr[0])])\n",
    "        b.append(arr[1])\n",
    "    nmi_score = metrics.normalized_mutual_info_score(a, b)  \n",
    "    ans.append(nmi_score)\n",
    "    k=b_num(filename)\n",
    "    #print(k)\n",
    "    #g_complete_score_M[k]=\n",
    "    g_nmi_M[k-1]=nmi_score\n",
    "    #g_nmi_M.append(nmi_score)\n",
    "    print(nmi_score)\n",
    "    score=metrics.completeness_score(a, b)\n",
    "    #print (\"completeness_score-whole-data:   %0.8f\" % score)\n",
    "    g_complete_score_M[k-1]=score\n",
    "    score = metrics.homogeneity_score(a, b)\n",
    "    g_homogenity_M[k-1]=score\n",
    "    \n",
    "    \n",
    "    a.clear()\n",
    "    b.clear()\n",
    "nmi_score = metrics.normalized_mutual_info_score(t_a, t_b)\n",
    "complete_score=metrics.completeness_score(t_a, t_b)\n",
    "print(\"total_complete\",+complete_score)\n",
    "print(\"total\",+ nmi_score)   \n",
    "print(\"mean\",+mean(ans))\n",
    "    "
   ]
  },
  {
   "cell_type": "code",
   "execution_count": 9,
   "metadata": {},
   "outputs": [
    {
     "data": {
      "text/plain": [
       "[0.8429531364466163,\n",
       " 0.7994429041181178,\n",
       " 0.8156178562975993,\n",
       " 0.8237072967864693,\n",
       " 0.8046056320820889,\n",
       " 0.8041814803600968,\n",
       " 0.8800391091803376,\n",
       " 0.8785956849330395,\n",
       " 0.8831088429346386,\n",
       " 0.9461535983777408,\n",
       " 0.9220860938409925,\n",
       " 0.8366196381393723,\n",
       " 0.8582676065960377,\n",
       " 0.740675360004059,\n",
       " 0.7086088917145754,\n",
       " 0.5979777228876362]"
      ]
     },
     "execution_count": 9,
     "metadata": {},
     "output_type": "execute_result"
    }
   ],
   "source": [
    "g_nmi_M"
   ]
  },
  {
   "cell_type": "code",
   "execution_count": 14,
   "metadata": {
    "id": "nYZI66v1gEr_",
    "outputId": "8b9143f2-48a5-42a5-c127-7588937da1d8"
   },
   "outputs": [
    {
     "name": "stdout",
     "output_type": "stream",
     "text": [
      "0.8491569220219628\n",
      "0.9616412194190922\n",
      "0.8813805619430163\n",
      "0.9408695381734671\n",
      "0.8913929292506193\n",
      "0.8578063029589249\n",
      "0.7754538508208046\n",
      "0.627014802988978\n",
      "0.8055916256748079\n",
      "0.8366294236881894\n",
      "0.8255352916085382\n",
      "0.8299311635193237\n",
      "0.8805674538687048\n",
      "0.9338571650070233\n",
      "0.894447298421762\n",
      "0.9286190514827817\n",
      "total_complete 0.8864199754525428\n",
      "total 0.8783079817670273\n",
      "0.8574934125529998\n"
     ]
    }
   ],
   "source": [
    "import os\n",
    "import re\n",
    "from sklearn import metrics\n",
    "from statistics import mean\n",
    "a=[]\n",
    "b=[]\n",
    "t_a=[]\n",
    "t_b=[]\n",
    "ans=[]\n",
    "g_nmi_MF=[None] *16\n",
    "g_complete_score_MF=[None]*16\n",
    "g_homogenity_MF=[None]*16\n",
    "\n",
    "di = r\"C:\\Users\\sachin\\Desktop\\mtp\\sachin\\result\"\n",
    "i=0\n",
    "\n",
    "for filename in os.listdir(di):\n",
    "    #print(filename)\n",
    "    temp=di+'/'+filename+\"/Tweets-TSampleNo1ClusteringResult.txt\"\n",
    "  #  print(temp)\n",
    "    file1=open(temp,\"r\")\n",
    "    #print(file1)\n",
    "    lines = file1.readlines()\n",
    "    for line in lines:\n",
    "        line = line.strip()\n",
    "\n",
    "        arr = re.split(\" \", line)\n",
    "        t_a.append(true_c[int(arr[0])])\n",
    "        t_b.append(arr[1])\n",
    "        a.append(true_c[int(arr[0])])\n",
    "        b.append(arr[1])\n",
    "    nmi_score = metrics.normalized_mutual_info_score(a, b)  \n",
    "    ans.append(nmi_score)\n",
    "    #g_nmi_MF.append(nmi_score)\n",
    "    k=b_num(filename)\n",
    "    #print(k)\n",
    "    g_nmi_MF[k-1]=nmi_score\n",
    "    print(nmi_score)\n",
    "    score=metrics.completeness_score(a, b)\n",
    "    g_complete_score_MF[k-1]=score\n",
    "    score = metrics.homogeneity_score(a, b)\n",
    "    g_homogenity_MF[k-1]=score\n",
    "    \n",
    "    a.clear()\n",
    "    b.clear()\n",
    "nmi_score = metrics.normalized_mutual_info_score(t_a, t_b)  \n",
    "complete_score=metrics.completeness_score(t_a, t_b)\n",
    "print(\"total_complete\",+complete_score)\n",
    "print(\"total\",+ nmi_score)   \n",
    "print(mean(ans))\n",
    "    "
   ]
  },
  {
   "cell_type": "code",
   "execution_count": 15,
   "metadata": {
    "id": "eA-am182gEr_",
    "outputId": "5e652371-4dbc-4046-bd1f-90ff6ca061f1",
    "scrolled": true
   },
   "outputs": [
    {
     "data": {
      "text/plain": [
       "[0.7643243678903586,\n",
       " 0.7202887771093839,\n",
       " 0.7627438487383512,\n",
       " 0.7770283787278665,\n",
       " 0.7779305877568692,\n",
       " 0.7970600876923637,\n",
       " 0.9366618934490302,\n",
       " 0.8599607206136077,\n",
       " 0.890632824216821,\n",
       " 0.9625882188581493,\n",
       " 0.8461079369079985,\n",
       " 0.9046643296463606,\n",
       " 0.8520191897475144,\n",
       " 0.799741117350564,\n",
       " 0.6996822749371704,\n",
       " 0.47497325181056743]"
      ]
     },
     "execution_count": 15,
     "metadata": {},
     "output_type": "execute_result"
    }
   ],
   "source": [
    "g_complete_score_MF"
   ]
  },
  {
   "cell_type": "code",
   "execution_count": 16,
   "metadata": {
    "id": "lRB6nD-1gEsA",
    "outputId": "2a76ce59-e8ac-41e1-e2f0-8847896cefbe"
   },
   "outputs": [
    {
     "data": {
      "text/plain": [
       "[0.8491569220219628,\n",
       " 0.8055916256748079,\n",
       " 0.8366294236881894,\n",
       " 0.8255352916085382,\n",
       " 0.8299311635193237,\n",
       " 0.8805674538687048,\n",
       " 0.9338571650070233,\n",
       " 0.894447298421762,\n",
       " 0.9286190514827817,\n",
       " 0.9616412194190922,\n",
       " 0.8813805619430163,\n",
       " 0.9408695381734671,\n",
       " 0.8913929292506193,\n",
       " 0.8578063029589249,\n",
       " 0.7754538508208046,\n",
       " 0.627014802988978]"
      ]
     },
     "execution_count": 16,
     "metadata": {},
     "output_type": "execute_result"
    }
   ],
   "source": [
    "g_nmi_MF\n"
   ]
  },
  {
   "cell_type": "code",
   "execution_count": 17,
   "metadata": {
    "id": "hIQvi9ctgEsA",
    "outputId": "dc1355d8-b5e5-4fc7-d1df-dc43b9f22d8e"
   },
   "outputs": [
    {
     "data": {
      "image/png": "[encoded data removed]",
      "text/plain": [
       "<Figure size 432x288 with 1 Axes>"
      ]
     },
     "metadata": {
      "needs_background": "light"
     },
     "output_type": "display_data"
    }
   ],
   "source": [
    "import matplotlib.pyplot as plt \n",
    "\n",
    "  \n",
    "g_x=[]\n",
    "for i in range(1,17):\n",
    "    g_x.append(i)\n",
    "\n",
    "\n",
    "# plotting the line 1 points  \n",
    " \n",
    "\n",
    "plt.plot(g_x, g_nmi_MF, label = \"MstreamF\") \n",
    "plt.plot(g_x,g_nmi_M , label = \"Mstream\")\n",
    "  \n",
    "# naming the x axis \n",
    "plt.xlabel('Batch number') \n",
    "# naming the y axis \n",
    "plt.ylabel('NMI Score') \n",
    "# giving a title to my graph \n",
    "plt.title('NMI value for Mstream and MstreamF ') \n",
    "  \n",
    "# show a legend on the plot \n",
    "plt.legend() \n",
    "  \n",
    "# function to show the plot \n",
    "plt.show() "
   ]
  },
  {
   "cell_type": "code",
   "execution_count": null,
   "metadata": {
    "id": "uxu14VJggEsB"
   },
   "outputs": [],
   "source": []
  },
  {
   "cell_type": "code",
   "execution_count": 18,
   "metadata": {
    "id": "elPvcs6zgEsB",
    "outputId": "4863f63e-4806-4dd8-ea34-b6aa692b4696",
    "scrolled": true
   },
   "outputs": [
    {
     "data": {
      "text/plain": [
       "[<matplotlib.lines.Line2D at 0x1fc75070a00>]"
      ]
     },
     "execution_count": 18,
     "metadata": {},
     "output_type": "execute_result"
    },
    {
     "data": {
      "image/png": "[encoded data removed]",
      "text/plain": [
       "<Figure size 432x288 with 1 Axes>"
      ]
     },
     "metadata": {
      "needs_background": "light"
     },
     "output_type": "display_data"
    }
   ],
   "source": [
    "plt.plot(g_x, g_nmi_M, color='green', linestyle='dashed', linewidth = 3, \n",
    "         marker='o', markerfacecolor='green', markersize=12,label='Mstream') \n",
    "plt.plot(g_x, g_nmi_MF, color='blue', linestyle='dashed', linewidth = 3, \n",
    "         marker='o', markerfacecolor='blue', markersize=12,label='MstreamF') \n"
   ]
  },
  {
   "cell_type": "code",
   "execution_count": 19,
   "metadata": {
    "id": "4SbSxNGRgEsB",
    "outputId": "d80b3298-cbde-48ba-f32b-b915e32b6c65"
   },
   "outputs": [
    {
     "data": {
      "image/png": "[encoded data removed]",
      "text/plain": [
       "<Figure size 432x288 with 1 Axes>"
      ]
     },
     "metadata": {
      "needs_background": "light"
     },
     "output_type": "display_data"
    }
   ],
   "source": [
    "\n",
    "\n",
    "# plotting the line 1 points  \n",
    "plt.plot(g_x,g_complete_score_M , label = \"Mstream\") \n",
    "  \n",
    "plt.plot(g_x, g_complete_score_MF, label = \"MstreamF\") \n",
    "  \n",
    "# naming the x axis \n",
    "plt.xlabel('Batch number') \n",
    "# naming the y axis \n",
    "plt.ylabel('complete  Score') \n",
    "# giving a title to my graph \n",
    "plt.title('complete score for Mstream and MstreamF ') \n",
    "  \n",
    "# show a legend on the plot \n",
    "plt.legend() \n",
    "  \n",
    "# function to show the plot \n",
    "plt.show() "
   ]
  },
  {
   "cell_type": "code",
   "execution_count": 20,
   "metadata": {
    "id": "1ONOMxergEsC",
    "outputId": "7c73c620-eff9-492a-af8a-492edd4bd4fa"
   },
   "outputs": [
    {
     "data": {
      "image/png": "[encoded data removed]",
      "text/plain": [
       "<Figure size 432x288 with 1 Axes>"
      ]
     },
     "metadata": {
      "needs_background": "light"
     },
     "output_type": "display_data"
    }
   ],
   "source": [
    "\n",
    "\n",
    "# plotting the line 1 points  \n",
    "plt.plot(g_x,g_homogenity_M , label = \"Mstream\") \n",
    "  \n",
    "plt.plot(g_x, g_homogenity_MF, label = \"MstreamF\") \n",
    "  \n",
    "# naming the x axis \n",
    "plt.xlabel('Batch number') \n",
    "# naming the y axis \n",
    "plt.ylabel('Homogenity') \n",
    "# giving a title to my graph \n",
    "plt.title('Homogenity for Mstream and MstreamF ') \n",
    "  \n",
    "# show a legend on the plot \n",
    "plt.legend() \n",
    "  \n",
    "# function to show the plot \n",
    "plt.show() "
   ]
  },
  {
   "cell_type": "code",
   "execution_count": 47,
   "metadata": {
    "id": "cVPzd7XggEsC"
   },
   "outputs": [],
   "source": [
    "def count_n0_topic(line):\n",
    "\n",
    "    sub_str=\"Topic\"\n",
    "    if (line.find(sub_str) != -1): \n",
    "        return 1\n",
    "    return 0"
   ]
  },
  {
   "cell_type": "code",
   "execution_count": 48,
   "metadata": {
    "id": "4Lkl8lf6gEsD",
    "outputId": "ff47c016-a1c5-4141-e285-0d730a2e691f"
   },
   "outputs": [
    {
     "data": {
      "text/plain": [
       "0"
      ]
     },
     "execution_count": 48,
     "metadata": {},
     "output_type": "execute_result"
    }
   ],
   "source": [
    "count_n0_topic(\"Toic Tpic\")"
   ]
  },
  {
   "cell_type": "code",
   "execution_count": null,
   "metadata": {
    "id": "U7-UPmABgEsE"
   },
   "outputs": [],
   "source": [
    "import os\n",
    "import re\n",
    "from sklearn import metrics\n",
    "from statistics import mean\n",
    "a=[]\n",
    "b=[]\n",
    "t_a=[]\n",
    "t_b=[]\n",
    "ans=[]\n",
    "n_topic=0\n",
    "g_nmi_M=[None] *16\n",
    "g_complete_score_M=[None]*16\n",
    "g_homogenity_M=[None]*16\n",
    "g_no_of_clusters_M=[None]*16\n",
    "di = r\"C:\\Users\\sachin\\Desktop\\mtp\\sachin\\result\"\n",
    "i=0\n",
    "\n",
    "for filename in os.listdir(di):\n",
    "    #print(filename)\n",
    "    \n",
    "    \n",
    "    temp=di+'/'+filename+\"/Tweets-TSampleNo1PhiWordsInTopics.txt\"\n",
    "  #  print(temp)\n",
    "    file1=open(temp,\"r\")\n",
    "    #print(file1)\n",
    "\n",
    "    lines = file1.readlines()\n",
    "    n_topic=0\n",
    "    for line in lines:\n",
    "        n_topic=n_topic+count_n0_topic(line)\n",
    "        #line = line.strip()\n",
    "\n",
    "\n",
    "    k=b_num(filename)\n",
    "    g_no_of_clusters_M[k-1]=n_topic\n",
    "    \n",
    "    #print(k)\n",
    "    #g_complete_score_M[k]=\n",
    "    #g_nmi_M[k-1]=nmi_score\n",
    "    #g_nmi_M.append(nmi_score)\n",
    "    #print(nmi_score)\n",
    "    #score=metrics.completeness_score(a, b)\n",
    "    #print (\"completeness_score-whole-data:   %0.8f\" % score)\n",
    "    #g_complete_score_M[k-1]=score\n",
    "    #score = metrics.homogeneity_score(a, b)\n",
    "    #g_homogenity_M[k-1]=score\n",
    "    \n",
    "    \n",
    "    #a.clear()\n",
    "    #b.clear()\n",
    "#nmi_score = metrics.normalized_mutual_info_score(t_a, t_b)  \n",
    "#print(\"total\",+ nmi_score)   \n",
    "#print(mean(ans))\n",
    "    "
   ]
  },
  {
   "cell_type": "code",
   "execution_count": null,
   "metadata": {
    "id": "6PAtNYP5gEsE",
    "outputId": "e7631d08-46de-4383-a9fe-84a317eaa630"
   },
   "outputs": [
    {
     "data": {
      "text/plain": [
       "[120, 141, 130, 106, 101, 100, 98, 87, 87, 82, 79, 86, 86, 80, 77, 75]"
      ]
     },
     "execution_count": 55,
     "metadata": {},
     "output_type": "execute_result"
    }
   ],
   "source": [
    "g_no_of_clusters_M"
   ]
  },
  {
   "cell_type": "code",
   "execution_count": null,
   "metadata": {
    "id": "4m6BxNdqgEsF"
   },
   "outputs": [],
   "source": [
    "import os\n",
    "import re\n",
    "from sklearn import metrics\n",
    "from statistics import mean\n",
    "a=[]\n",
    "b=[]\n",
    "t_a=[]\n",
    "t_b=[]\n",
    "ans=[]\n",
    "n_topic=0\n",
    "g_nmi_M=[None] *16\n",
    "g_complete_score_M=[None]*16\n",
    "g_homogenity_M=[None]*16\n",
    "g_no_of_clusters_MF=[None]*16\n",
    "di = r\"C:\\Users\\sachin\\Desktop\\mtp\\sachin\\result\"\n",
    "i=0\n",
    "\n",
    "for filename in os.listdir(di):\n",
    "    #print(filename)\n",
    "    \n",
    "    \n",
    "    temp=di+'/'+filename+\"/Tweets-TSampleNo1PhiWordsInTopics.txt\"\n",
    "  #  print(temp)\n",
    "    file1=open(temp,\"r\")\n",
    "    #print(file1)\n",
    "\n",
    "    lines = file1.readlines()\n",
    "    n_topic=0\n",
    "    for line in lines:\n",
    "        n_topic=n_topic+count_n0_topic(line)\n",
    "        #line = line.strip()\n",
    "\n",
    "\n",
    "    k=b_num(filename)\n",
    "    g_no_of_clusters_MF[k-1]=n_topic\n",
    "    \n",
    "    #print(k)\n",
    "    #g_complete_score_M[k]=\n",
    "    #g_nmi_M[k-1]=nmi_score\n",
    "    #g_nmi_M.append(nmi_score)\n",
    "    #print(nmi_score)\n",
    "    #score=metrics.completeness_score(a, b)\n",
    "    #print (\"completeness_score-whole-data:   %0.8f\" % score)\n",
    "    #g_complete_score_M[k-1]=score\n",
    "    #score = metrics.homogeneity_score(a, b)\n",
    "    #g_homogenity_M[k-1]=score\n",
    "    \n",
    "    \n",
    "    #a.clear()\n",
    "    #b.clear()\n",
    "#nmi_score = metrics.normalized_mutual_info_score(t_a, t_b)  \n",
    "#print(\"total\",+ nmi_score)   \n",
    "#print(mean(ans))\n",
    "    "
   ]
  },
  {
   "cell_type": "code",
   "execution_count": null,
   "metadata": {
    "id": "vMHoCzMYgEsF"
   },
   "outputs": [],
   "source": []
  },
  {
   "cell_type": "code",
   "execution_count": null,
   "metadata": {
    "id": "Z9vl21PvgEsF",
    "outputId": "f8a7d045-f53d-4a88-990b-8467584ae454"
   },
   "outputs": [
    {
     "data": {
      "text/plain": [
       "[120, 145, 133, 103, 94, 91, 87, 84, 84, 83, 82, 90, 92, 83, 81, 82]"
      ]
     },
     "execution_count": 179,
     "metadata": {},
     "output_type": "execute_result"
    }
   ],
   "source": [
    "g_no_of_clusters_MF"
   ]
  },
  {
   "cell_type": "code",
   "execution_count": null,
   "metadata": {
    "id": "695fes83gEsF"
   },
   "outputs": [],
   "source": [
    "g_no_of_clusters_M\n",
    "g_no_of_clusters_MF\n",
    "g_no_of_clusters_M_Tweets=[None]*16\n",
    "g_no_of_clusters_MF_Tweets=[None]*16\n",
    "\n",
    "g_no_of_clusters_M_News_T=[None]*16\n",
    "g_no_of_clusters_MF_News_T=[None]*16\n",
    "\n",
    "g_no_of_clusters_M_Tweets_T=[None]*16\n",
    "g_no_of_clusters_MF_Tweets_T=[None]*16\n",
    "\n",
    "\n"
   ]
  },
  {
   "cell_type": "code",
   "execution_count": null,
   "metadata": {
    "id": "JYSrz6slgEsG"
   },
   "outputs": [],
   "source": [
    "g_no_of_clusters_MU=[None]*16\n",
    "g_no_of_clusters_MFU=[None]*16"
   ]
  },
  {
   "cell_type": "code",
   "execution_count": null,
   "metadata": {
    "id": "EXCEj0fNgEsG",
    "outputId": "839398a3-2abf-4d35-d7e5-1d8c7cf4dd69"
   },
   "outputs": [
    {
     "name": "stdout",
     "output_type": "stream",
     "text": [
      "121\n",
      "91\n",
      "92\n",
      "89\n",
      "87\n",
      "81\n",
      "84\n",
      "86\n",
      "149\n",
      "126\n",
      "109\n",
      "97\n",
      "94\n",
      "95\n",
      "85\n",
      "89\n"
     ]
    }
   ],
   "source": [
    "import os\n",
    "import re\n",
    "from sklearn import metrics\n",
    "from statistics import mean\n",
    "n_topic=0\n",
    "\n",
    "g_no_of_clusters_MFU=[None]*16\n",
    "di = r\"C:\\Users\\sachin\\Desktop\\mtp\\sachin\\result\"\n",
    "i=0\n",
    "\n",
    "for filename in os.listdir(di):\n",
    "    #print(filename)\n",
    "    \n",
    "    \n",
    "    temp=di+'/'+filename+\"/Tweets-TSampleNo1PhiWordsInTopics.txt\"\n",
    "  #  print(temp)\n",
    "    file1=open(temp,\"r\")\n",
    "    #print(file1)\n",
    "\n",
    "    lines = file1.readlines()\n",
    "    n_topic=0\n",
    "    for line in lines:\n",
    "        n_topic=n_topic+count_n0_topic(line)\n",
    "        #line = line.strip()\n",
    "\n",
    "\n",
    "    k=b_num(filename)\n",
    "    print(n_topic)\n",
    "    g_no_of_clusters_MFU[k-1]=n_topic\n",
    "    "
   ]
  },
  {
   "cell_type": "code",
   "execution_count": null,
   "metadata": {
    "id": "gUqefExMgEsG",
    "outputId": "6256e756-4941-4658-943d-59b933b124cd"
   },
   "outputs": [
    {
     "data": {
      "text/plain": [
       "[135, 162, 140, 119, 104, 83, 79, 79, 87, 86, 75, 74, 93, 95, 81, 69]"
      ]
     },
     "execution_count": 149,
     "metadata": {},
     "output_type": "execute_result"
    }
   ],
   "source": [
    "g_no_of_clusters_MF_Tweets"
   ]
  },
  {
   "cell_type": "code",
   "execution_count": null,
   "metadata": {
    "id": "7j9quSbwgEsG"
   },
   "outputs": [],
   "source": []
  },
  {
   "cell_type": "code",
   "execution_count": null,
   "metadata": {
    "id": "rFXJRI5agEsH"
   },
   "outputs": [],
   "source": [
    "import os\n",
    "import re\n",
    "from sklearn import metrics\n",
    "from statistics import mean\n",
    "n_topic=0\n",
    "\n",
    "g_no_of_clusters_MF=[None]*16\n",
    "di = r\"C:\\Users\\sachin\\Desktop\\mtp\\sachin\\result\"\n",
    "i=0\n",
    "\n",
    "for filename in os.listdir(di):\n",
    "    #print(filename)\n",
    "    \n",
    "    \n",
    "    temp=di+'/'+filename+\"/Tweets-TSampleNo1PhiWordsInTopics.txt\"\n",
    "  #  print(temp)\n",
    "    file1=open(temp,\"r\")\n",
    "    #print(file1)\n",
    "\n",
    "    lines = file1.readlines()\n",
    "    n_topic=0\n",
    "    for line in lines:\n",
    "        n_topic=n_topic+count_n0_topic(line)\n",
    "        #line = line.strip()\n",
    "\n",
    "\n",
    "    k=b_num(filename)\n",
    "    g_no_of_clusters_MF[k-1]=n_topic\n",
    "    "
   ]
  },
  {
   "cell_type": "code",
   "execution_count": null,
   "metadata": {
    "id": "6XfkOXZZgEsH"
   },
   "outputs": [],
   "source": []
  },
  {
   "cell_type": "code",
   "execution_count": null,
   "metadata": {
    "id": "Tw4x3JHAgEsH",
    "outputId": "5e017f65-caf3-4d90-cce3-5e44392ef40a"
   },
   "outputs": [
    {
     "data": {
      "image/png": "[encoded data removed]",
      "text/plain": [
       "<Figure size 432x288 with 1 Axes>"
      ]
     },
     "metadata": {},
     "output_type": "display_data"
    }
   ],
   "source": [
    "# plotting the line 1 points  \n",
    "plt.plot(g_x,g_no_of_clusters_M, label = \"Mstream\") \n",
    "  \n",
    "plt.plot(g_x, g_no_of_clusters_MF, label = \"MstreamF\") \n",
    "  \n",
    "# naming the x axis \n",
    "plt.xlabel('Batch number') \n",
    "# naming the y axis \n",
    "plt.ylabel('No of topics') \n",
    "# giving a title to my graph \n",
    "plt.title('No of Topics for Mstream and MstreamF ') \n",
    "  \n",
    "# show a legend on the plot \n",
    "plt.legend() \n",
    "  \n",
    "# function to show the plot \n",
    "plt.show() "
   ]
  },
  {
   "cell_type": "code",
   "execution_count": null,
   "metadata": {
    "id": "d_pC6V4UgEsI",
    "outputId": "b1ad852e-72c4-4778-e48e-8d02619e0b67"
   },
   "outputs": [
    {
     "name": "stdout",
     "output_type": "stream",
     "text": [
      "0.8813677236956667\n",
      "0.8645811287446801\n",
      "0.8646512852838539\n",
      "0.8505622444461114\n",
      "0.8476454606247338\n",
      "0.860009465339455\n",
      "0.8565032863523394\n",
      "0.8571429642559912\n",
      "0.8873979427023875\n",
      "0.9002884554345837\n",
      "0.8867921242764558\n",
      "0.8819692379572359\n",
      "0.8848114728812232\n",
      "0.8758605033215777\n",
      "0.8770681527746912\n",
      "0.8539860125288434\n",
      "total 0.7706562932532953\n",
      "0.8706648412887393\n"
     ]
    }
   ],
   "source": [
    "import os\n",
    "import re\n",
    "from sklearn import metrics\n",
    "from statistics import mean\n",
    "a=[]\n",
    "b=[]\n",
    "t_a=[]\n",
    "t_b=[]\n",
    "ans=[]\n",
    "g_nmi_M=[None] *16\n",
    "g_complete_score_M=[None]*16\n",
    "g_homogenity_M=[None]*16\n",
    "di = r\"C:\\Users\\sachin\\Desktop\\mtp\\sachin\\result\"\n",
    "i=0\n",
    "\n",
    "for filename in os.listdir(di):\n",
    "    #print(filename)\n",
    "    \n",
    "    \n",
    "    temp=di+'/'+filename+\"/Tweets-TSampleNo1ClusteringResult.txt\"\n",
    "  #  print(temp)\n",
    "    file1=open(temp,\"r\")\n",
    "    #print(file1)\n",
    "\n",
    "    lines = file1.readlines()\n",
    "    \n",
    "    for line in lines:\n",
    "        line = line.strip()\n",
    "\n",
    "        arr = re.split(\" \", line)\n",
    "        \n",
    "        t_a.append(true_c[int(arr[0])])\n",
    "        t_b.append(arr[1])\n",
    "        #print(arr[0])\n",
    "        \n",
    "        a.append(true_c[int(arr[0])])\n",
    "        b.append(arr[1])\n",
    "    nmi_score = metrics.normalized_mutual_info_score(a, b)  \n",
    "    ans.append(nmi_score)\n",
    "    k=b_num(filename)\n",
    "    g_nmi_M[k-1]=nmi_score\n",
    "    print(nmi_score)\n",
    "    \n",
    "    \n",
    "    a.clear()\n",
    "    b.clear()\n",
    "nmi_score = metrics.normalized_mutual_info_score(t_a, t_b)  \n",
    "print(\"total\",+ nmi_score)   \n",
    "print(mean(ans))\n",
    "    "
   ]
  },
  {
   "cell_type": "code",
   "execution_count": null,
   "metadata": {
    "id": "1c0L1LgkgEsI",
    "outputId": "eb560371-84a1-4f80-d7be-525f386f29ad"
   },
   "outputs": [
    {
     "name": "stdout",
     "output_type": "stream",
     "text": [
      "0.8850590269114179\n",
      "0.9080976351397656\n",
      "0.9132877450948458\n",
      "0.9071507739053895\n",
      "0.9106049698392085\n",
      "0.9191119162121257\n",
      "0.9019646153474576\n",
      "0.9118540118882216\n",
      "0.9003355240778006\n",
      "0.898814311781879\n",
      "0.8995268853675344\n",
      "0.8983521866974333\n",
      "0.9133744633499989\n",
      "0.9116610978974203\n",
      "0.8921325729980465\n",
      "0.9032403077024198\n",
      "total_complete 0.8705762201787123\n",
      "total 0.8555592946250863\n",
      "man  0.9046605027631853\n"
     ]
    }
   ],
   "source": [
    "import os\n",
    "import re\n",
    "from sklearn import metrics\n",
    "from statistics import mean\n",
    "a=[]\n",
    "b=[]\n",
    "t_a=[]\n",
    "t_b=[]\n",
    "ans=[]\n",
    "g_nmi_M=[None] *16\n",
    "g_complete_score_M=[None]*16\n",
    "g_homogenity_M=[None]*16\n",
    "di = r\"C:\\Users\\sachin\\Desktop\\mtp\\sachin\\result\"\n",
    "i=0\n",
    "\n",
    "for filename in os.listdir(di):\n",
    "    #print(filename)\n",
    "    \n",
    "    \n",
    "    temp=di+'/'+filename+\"/Tweets-TSampleNo1ClusteringResult.txt\"\n",
    "  #  print(temp)\n",
    "    file1=open(temp,\"r\")\n",
    "    #print(file1)\n",
    "\n",
    "    lines = file1.readlines()\n",
    "    \n",
    "    for line in lines:\n",
    "        line = line.strip()\n",
    "\n",
    "        arr = re.split(\" \", line)\n",
    "        t_a.append(true_c[int(arr[0])])\n",
    "        t_b.append(arr[1])\n",
    "        a.append(true_c[int(arr[0])])\n",
    "        b.append(arr[1])\n",
    "    nmi_score = metrics.normalized_mutual_info_score(a, b)  \n",
    "    ans.append(nmi_score)\n",
    "    k=b_num(filename)\n",
    "    #print(k)\n",
    "    #g_complete_score_M[k]=\n",
    "    g_nmi_M[k-1]=nmi_score\n",
    "    #g_nmi_M.append(nmi_score)\n",
    "    print(nmi_score)\n",
    "    score=metrics.completeness_score(a, b)\n",
    "    #print (\"completeness_score-whole-data:   %0.8f\" % score)\n",
    "    g_complete_score_M[k-1]=score\n",
    "    score = metrics.homogeneity_score(a, b)\n",
    "    g_homogenity_M[k-1]=score\n",
    "    \n",
    "    \n",
    "    a.clear()\n",
    "    b.clear()\n",
    "nmi_score = metrics.normalized_mutual_info_score(t_a, t_b)\n",
    "complete_score=metrics.completeness_score(t_a, t_b)\n",
    "print(\"total_complete\",+complete_score)\n",
    "print(\"total\",+ nmi_score)   \n",
    "print(\"man \",+mean(ans))\n",
    "    "
   ]
  },
  {
   "cell_type": "code",
   "execution_count": null,
   "metadata": {
    "id": "tC0uE0TxgEsI",
    "outputId": "4c706c8f-b49e-406a-951d-8d9c3795034e"
   },
   "outputs": [
    {
     "name": "stdout",
     "output_type": "stream",
     "text": [
      "0.8748951536839877\n",
      "0.8781647761104063\n",
      "0.88958205390797\n",
      "0.8583203577059592\n",
      "0.8590756596267112\n",
      "0.864112644853381\n",
      "0.8503752051477967\n",
      "0.8612010718967794\n",
      "0.8894968095028014\n",
      "0.8935807226505753\n",
      "0.8816641224425076\n",
      "0.8671836207070686\n",
      "0.8829721803594003\n",
      "0.8804175315497814\n",
      "0.8751858600836283\n",
      "0.8622275691227584\n",
      "total_complete 0.7780723425961005\n",
      "total 0.7546633621801628\n",
      "man  0.8730284587094695\n"
     ]
    }
   ],
   "source": [
    "import os\n",
    "import re\n",
    "from sklearn import metrics\n",
    "from statistics import mean\n",
    "a=[]\n",
    "b=[]\n",
    "t_a=[]\n",
    "t_b=[]\n",
    "ans=[]\n",
    "g_nmi_M=[None] *16\n",
    "g_complete_score_M=[None]*16\n",
    "g_homogenity_M=[None]*16\n",
    "di = r\"C:\\Users\\sachin\\Desktop\\mtp\\sachin\\result\"\n",
    "i=0\n",
    "\n",
    "for filename in os.listdir(di):\n",
    "    #print(filename)\n",
    "    \n",
    "    \n",
    "    temp=di+'/'+filename+\"/Tweets-TSampleNo1ClusteringResult.txt\"\n",
    "  #  print(temp)\n",
    "    file1=open(temp,\"r\")\n",
    "    #print(file1)\n",
    "\n",
    "    lines = file1.readlines()\n",
    "    \n",
    "    for line in lines:\n",
    "        line = line.strip()\n",
    "\n",
    "        arr = re.split(\" \", line)\n",
    "        t_a.append(true_c[int(arr[0])])\n",
    "        t_b.append(arr[1])\n",
    "        a.append(true_c[int(arr[0])])\n",
    "        b.append(arr[1])\n",
    "    nmi_score = metrics.normalized_mutual_info_score(a, b)  \n",
    "    ans.append(nmi_score)\n",
    "    k=b_num(filename)\n",
    "    #print(k)\n",
    "    #g_complete_score_M[k]=\n",
    "    g_nmi_M[k-1]=nmi_score\n",
    "    #g_nmi_M.append(nmi_score)\n",
    "    print(nmi_score)\n",
    "    score=metrics.completeness_score(a, b)\n",
    "    #print (\"completeness_score-whole-data:   %0.8f\" % score)\n",
    "    g_complete_score_M[k-1]=score\n",
    "    score = metrics.homogeneity_score(a, b)\n",
    "    g_homogenity_M[k-1]=score\n",
    "    \n",
    "    \n",
    "    a.clear()\n",
    "    b.clear()\n",
    "nmi_score = metrics.normalized_mutual_info_score(t_a, t_b)\n",
    "complete_score=metrics.completeness_score(t_a, t_b)\n",
    "print(\"total_complete\",+complete_score)\n",
    "print(\"total\",+ nmi_score)   \n",
    "print(\"man \",+mean(ans))\n",
    "    "
   ]
  },
  {
   "cell_type": "code",
   "execution_count": null,
   "metadata": {
    "id": "5otxwIz8gEsJ",
    "outputId": "de3f19a0-64fe-43de-e9c0-d109da8b75c8",
    "scrolled": true
   },
   "outputs": [
    {
     "name": "stdout",
     "output_type": "stream",
     "text": [
      "0.8835158406135555\n",
      "0.9263155205488163\n",
      "0.919443261761324\n",
      "0.9224560086248441\n",
      "0.914831420127409\n",
      "0.9216898723235356\n",
      "0.9140563236872742\n",
      "0.9263210792146467\n",
      "0.902975731840035\n",
      "0.9113188172957601\n",
      "0.8995782208941833\n",
      "0.9040575756095235\n",
      "0.9186779735218469\n",
      "0.922314558737697\n",
      "0.9130722426215276\n",
      "0.9051269126625784\n",
      "total_complete 0.8705082139844913\n",
      "total 0.8624694891976324\n",
      "man  0.9128594600052848\n"
     ]
    }
   ],
   "source": [
    "import os\n",
    "import re\n",
    "from sklearn import metrics\n",
    "from statistics import mean\n",
    "a=[]\n",
    "b=[]\n",
    "t_a=[]\n",
    "t_b=[]\n",
    "ans=[]\n",
    "g_nmi_M_U=[None] *16\n",
    "g_complete_score_M_U=[None]*16\n",
    "g_homogenity_M=[None]*16\n",
    "di = r\"C:\\Users\\sachin\\Desktop\\mtp\\sachin\\result\"\n",
    "i=0\n",
    "\n",
    "for filename in os.listdir(di):\n",
    "    #print(filename)\n",
    "    \n",
    "    \n",
    "    temp=di+'/'+filename+\"/Tweets-TSampleNo1ClusteringResult.txt\"\n",
    "  #  print(temp)\n",
    "    file1=open(temp,\"r\")\n",
    "    #print(file1)\n",
    "\n",
    "    lines = file1.readlines()\n",
    "    \n",
    "    for line in lines:\n",
    "        line = line.strip()\n",
    "\n",
    "        arr = re.split(\" \", line)\n",
    "        t_a.append(true_c[int(arr[0])])\n",
    "        t_b.append(arr[1])\n",
    "        a.append(true_c[int(arr[0])])\n",
    "        b.append(arr[1])\n",
    "    nmi_score = metrics.normalized_mutual_info_score(a, b)  \n",
    "    ans.append(nmi_score)\n",
    "    k=b_num(filename)\n",
    "    #print(k)\n",
    "    #g_complete_score_M[k]=\n",
    "    g_nmi_M_U[k-1]=nmi_score\n",
    "    #g_nmi_M.append(nmi_score)\n",
    "    print(nmi_score)\n",
    "    score=metrics.completeness_score(a, b)\n",
    "    #print (\"completeness_score-whole-data:   %0.8f\" % score)\n",
    "    g_complete_score_M_U[k-1]=score\n",
    "    score = metrics.homogeneity_score(a, b)\n",
    "    g_homogenity_M[k-1]=score\n",
    "    \n",
    "    \n",
    "    a.clear()\n",
    "    b.clear()\n",
    "nmi_score = metrics.normalized_mutual_info_score(t_a, t_b)\n",
    "complete_score=metrics.completeness_score(t_a, t_b)\n",
    "print(\"total_complete\",+complete_score)\n",
    "print(\"total\",+ nmi_score)   \n",
    "print(\"man \",+mean(ans))\n",
    "    "
   ]
  },
  {
   "cell_type": "code",
   "execution_count": null,
   "metadata": {
    "id": "gK5qeeE-gEsJ",
    "outputId": "02495731-b463-45a9-da94-c3a01a9f7d9e"
   },
   "outputs": [
    {
     "data": {
      "text/plain": [
       "[0.8835158406135555,\n",
       " 0.902975731840035,\n",
       " 0.9113188172957601,\n",
       " 0.8995782208941833,\n",
       " 0.9040575756095235,\n",
       " 0.9186779735218469,\n",
       " 0.922314558737697,\n",
       " 0.9130722426215276,\n",
       " 0.9051269126625784,\n",
       " 0.9263155205488163,\n",
       " 0.919443261761324,\n",
       " 0.9224560086248441,\n",
       " 0.914831420127409,\n",
       " 0.9216898723235356,\n",
       " 0.9140563236872742,\n",
       " 0.9263210792146467]"
      ]
     },
     "execution_count": 63,
     "metadata": {},
     "output_type": "execute_result"
    }
   ],
   "source": [
    "g_nmi_M_U"
   ]
  },
  {
   "cell_type": "code",
   "execution_count": null,
   "metadata": {
    "id": "_t5GmRjxgEsJ",
    "outputId": "0cf525e6-af93-4379-df8e-d70a5630d4e9"
   },
   "outputs": [
    {
     "name": "stdout",
     "output_type": "stream",
     "text": [
      "0.8697068919927012\n",
      "0.8786192173677906\n",
      "0.8749524230003124\n",
      "0.8486870620359313\n",
      "0.8595426271734138\n",
      "0.8559836928193741\n",
      "0.8355173137059644\n",
      "0.8532790595823939\n",
      "0.8815322604195543\n",
      "0.9015524095500563\n",
      "0.8851615007592035\n",
      "0.8706680224712244\n",
      "0.8817541213105277\n",
      "0.8728587486922942\n",
      "0.8724136730876563\n",
      "0.8513571888658509\n",
      "total_complete 0.7676420953911971\n",
      "total 0.7454860693098053\n",
      "man  0.8683491383021406\n"
     ]
    }
   ],
   "source": [
    "import os\n",
    "import re\n",
    "from sklearn import metrics\n",
    "from statistics import mean\n",
    "a=[]\n",
    "b=[]\n",
    "t_a=[]\n",
    "t_b=[]\n",
    "ans=[]\n",
    "g_nmi_MF_U=[None] *16\n",
    "g_complete_score_MF_U=[None]*16\n",
    "g_homogenity_M=[None]*16\n",
    "di = r\"C:\\Users\\sachin\\Desktop\\mtp\\sachin\\result\"\n",
    "i=0\n",
    "\n",
    "for filename in os.listdir(di):\n",
    "    #print(filename)\n",
    "    \n",
    "    \n",
    "    temp=di+'/'+filename+\"/Tweets-TSampleNo1ClusteringResult.txt\"\n",
    "  #  print(temp)\n",
    "    file1=open(temp,\"r\")\n",
    "    #print(file1)\n",
    "\n",
    "    lines = file1.readlines()\n",
    "    \n",
    "    for line in lines:\n",
    "        line = line.strip()\n",
    "\n",
    "        arr = re.split(\" \", line)\n",
    "        t_a.append(true_c[int(arr[0])])\n",
    "        t_b.append(arr[1])\n",
    "        a.append(true_c[int(arr[0])])\n",
    "        b.append(arr[1])\n",
    "    nmi_score = metrics.normalized_mutual_info_score(a, b)  \n",
    "    ans.append(nmi_score)\n",
    "    k=b_num(filename)\n",
    "    #print(k)\n",
    "    #g_complete_score_M[k]=\n",
    "    g_nmi_MF_U[k-1]=nmi_score\n",
    "    #g_nmi_M.append(nmi_score)\n",
    "    print(nmi_score)\n",
    "    score=metrics.completeness_score(a, b)\n",
    "    #print (\"completeness_score-whole-data:   %0.8f\" % score)\n",
    "    g_complete_score_MF_U[k-1]=score\n",
    "    score = metrics.homogeneity_score(a, b)\n",
    "    g_homogenity_M[k-1]=score\n",
    "    \n",
    "    \n",
    "    a.clear()\n",
    "    b.clear()\n",
    "nmi_score = metrics.normalized_mutual_info_score(t_a, t_b)\n",
    "complete_score=metrics.completeness_score(t_a, t_b)\n",
    "print(\"total_complete\",+complete_score)\n",
    "print(\"total\",+ nmi_score)   \n",
    "print(\"man \",+mean(ans))\n",
    "    "
   ]
  },
  {
   "cell_type": "code",
   "execution_count": null,
   "metadata": {
    "id": "BYIe9NHFgEsK",
    "outputId": "c4097c3f-1aaf-4a32-f202-a2520fa4cd66"
   },
   "outputs": [
    {
     "data": {
      "text/plain": [
       "[0.8697068919927012,\n",
       " 0.8815322604195543,\n",
       " 0.9015524095500563,\n",
       " 0.8851615007592035,\n",
       " 0.8706680224712244,\n",
       " 0.8817541213105277,\n",
       " 0.8728587486922942,\n",
       " 0.8724136730876563,\n",
       " 0.8513571888658509,\n",
       " 0.8786192173677906,\n",
       " 0.8749524230003124,\n",
       " 0.8486870620359313,\n",
       " 0.8595426271734138,\n",
       " 0.8559836928193741,\n",
       " 0.8355173137059644,\n",
       " 0.8532790595823939]"
      ]
     },
     "execution_count": 65,
     "metadata": {},
     "output_type": "execute_result"
    }
   ],
   "source": [
    "g_nmi_MF_U"
   ]
  },
  {
   "cell_type": "code",
   "execution_count": null,
   "metadata": {
    "id": "eCjBiCasgEsK",
    "outputId": "d7655e9d-5b9c-4d5f-f22d-1c3b8e022cbd"
   },
   "outputs": [
    {
     "data": {
      "image/png": "[encoded data removed]",
      "text/plain": [
       "<Figure size 432x288 with 1 Axes>"
      ]
     },
     "metadata": {},
     "output_type": "display_data"
    }
   ],
   "source": [
    "import matplotlib.pyplot as plt \n",
    "\n",
    "  \n",
    "g_x=[]\n",
    "for i in range(1,17):\n",
    "    g_x.append(i)\n",
    "\n",
    "\n",
    "# plotting the line 1 points  \n",
    "plt.plot(g_x,g_nmi_M , label = \"Mstream\") \n",
    "  \n",
    "plt.plot(g_x, g_nmi_MF, label = \"MstreamF\") \n",
    "\n",
    "plt.plot(g_x, g_nmi_MF_U, label = \"MstreamF-updated\") \n",
    "\n",
    "plt.plot(g_x, g_nmi_M_U, label = \"Mstream-updated\") \n",
    "\n",
    "# naming the x axis \n",
    "plt.xlabel('Batch number') \n",
    "# naming the y axis \n",
    "plt.ylabel('NMI Score') \n",
    "# giving a title to my graph \n",
    "plt.title('NMI value for Mstream and MstreamF ') \n",
    "  \n",
    "# show a legend on the plot \n",
    "plt.legend() \n",
    "  \n",
    "# function to show the plot \n",
    "plt.show() "
   ]
  },
  {
   "cell_type": "code",
   "execution_count": null,
   "metadata": {
    "id": "nRGgBWMqgEsK"
   },
   "outputs": [],
   "source": []
  },
  {
   "cell_type": "code",
   "execution_count": null,
   "metadata": {
    "id": "mZsR9Cg1gEsK",
    "outputId": "f8026009-a8f2-40de-c5e3-09e7ae79875f"
   },
   "outputs": [
    {
     "name": "stdout",
     "output_type": "stream",
     "text": [
      "0.8813677236956667\n",
      "0.8645811287446801\n",
      "0.8646512852838539\n",
      "0.8505622444461114\n",
      "0.8476454606247338\n",
      "0.860009465339455\n",
      "0.8565032863523394\n",
      "0.8571429642559912\n",
      "0.8873979427023875\n",
      "0.9002884554345837\n",
      "0.8867921242764558\n",
      "0.8819692379572359\n",
      "0.8848114728812232\n",
      "0.8758605033215777\n",
      "0.8770681527746912\n",
      "0.8539860125288434\n",
      "total_complete 0.8005572644315639\n",
      "total 0.7706562932532953\n",
      "mean 0.8706648412887393\n"
     ]
    }
   ],
   "source": [
    "import os\n",
    "import re\n",
    "from sklearn import metrics\n",
    "from statistics import mean\n",
    "a=[]\n",
    "b=[]\n",
    "t_a=[]\n",
    "t_b=[]\n",
    "ans=[]\n",
    "g_nmi_M=[None] *16\n",
    "g_complete_score_M=[None]*16\n",
    "g_homogenity_M=[None]*16\n",
    "di = r\"C:\\Users\\sachin\\Desktop\\mtp\\sachin\\result\"\n",
    "i=0\n",
    "\n",
    "for filename in os.listdir(di):\n",
    "    #print(filename)\n",
    "    \n",
    "    \n",
    "    temp=di+'/'+filename+\"/Tweets-TSampleNo1ClusteringResult.txt\"\n",
    "  #  print(temp)\n",
    "    file1=open(temp,\"r\")\n",
    "    #print(file1)\n",
    "\n",
    "    lines = file1.readlines()\n",
    "    \n",
    "    for line in lines:\n",
    "        line = line.strip()\n",
    "\n",
    "        arr = re.split(\" \", line)\n",
    "        t_a.append(true_c[int(arr[0])])\n",
    "        t_b.append(arr[1])\n",
    "        a.append(true_c[int(arr[0])])\n",
    "        b.append(arr[1])\n",
    "    nmi_score = metrics.normalized_mutual_info_score(a, b)  \n",
    "    ans.append(nmi_score)\n",
    "    k=b_num(filename)\n",
    "    #print(k)\n",
    "    #g_complete_score_M[k]=\n",
    "    g_nmi_M[k-1]=nmi_score\n",
    "    #g_nmi_M.append(nmi_score)\n",
    "    print(nmi_score)\n",
    "    score=metrics.completeness_score(a, b)\n",
    "    #print (\"completeness_score-whole-data:   %0.8f\" % score)\n",
    "    g_complete_score_M[k-1]=score\n",
    "    score = metrics.homogeneity_score(a, b)\n",
    "    g_homogenity_M[k-1]=score\n",
    "    \n",
    "    \n",
    "    a.clear()\n",
    "    b.clear()\n",
    "nmi_score = metrics.normalized_mutual_info_score(t_a, t_b)\n",
    "complete_score=metrics.completeness_score(t_a, t_b)\n",
    "print(\"total_complete\",+complete_score)\n",
    "print(\"total\",+ nmi_score)   \n",
    "print(\"mean\",+mean(ans))\n",
    "    "
   ]
  },
  {
   "cell_type": "code",
   "execution_count": null,
   "metadata": {
    "id": "4FVBMUO0gEsK"
   },
   "outputs": [],
   "source": [
    "dataset = \"Tweets\""
   ]
  },
  {
   "cell_type": "code",
   "execution_count": null,
   "metadata": {
    "id": "8KND_GlqgEsL"
   },
   "outputs": [],
   "source": [
    "true_c=[None]*32000"
   ]
  },
  {
   "cell_type": "code",
   "execution_count": null,
   "metadata": {
    "id": "X63KsoW_gEsL"
   },
   "outputs": [],
   "source": [
    " with open(dataDir + dataset) as input:\n",
    "        line = input.readline()\n",
    "        k=0\n",
    "        while line:\n",
    "            k=k+1\n",
    "            obj = json.loads(line)\n",
    "            text = obj['textCleaned']\n",
    "            true_c[int(obj['Id'])]=obj['clusterNo']\n",
    "            \n",
    "            #print( obj['Id']+ \"   \" +text)\n",
    "            #words_csv[k]=text\n",
    "            line = input.readline()\n",
    "            if (\"\" == line):break;"
   ]
  },
  {
   "cell_type": "code",
   "execution_count": null,
   "metadata": {
    "id": "QQDsUxW-gEsL",
    "outputId": "1bf8667a-a507-4685-9872-58d796fb26a0"
   },
   "outputs": [
    {
     "ename": "FileNotFoundError",
     "evalue": "[WinError 3] The system cannot find the path specified: 'C:/Users/uday/Desktop/result/Mstream_Tweets'",
     "output_type": "error",
     "traceback": [
      "\u001b[1;31m---------------------------------------------------------------------------\u001b[0m",
      "\u001b[1;31mFileNotFoundError\u001b[0m                         Traceback (most recent call last)",
      "\u001b[1;32m<ipython-input-126-98d8d4d275cf>\u001b[0m in \u001b[0;36m<module>\u001b[1;34m()\u001b[0m\n\u001b[0;32m     14\u001b[0m \u001b[0mi\u001b[0m\u001b[1;33m=\u001b[0m\u001b[1;36m0\u001b[0m\u001b[1;33m\u001b[0m\u001b[0m\n\u001b[0;32m     15\u001b[0m \u001b[1;33m\u001b[0m\u001b[0m\n\u001b[1;32m---> 16\u001b[1;33m \u001b[1;32mfor\u001b[0m \u001b[0mfilename\u001b[0m \u001b[1;32min\u001b[0m \u001b[0mos\u001b[0m\u001b[1;33m.\u001b[0m\u001b[0mlistdir\u001b[0m\u001b[1;33m(\u001b[0m\u001b[0mdi\u001b[0m\u001b[1;33m)\u001b[0m\u001b[1;33m:\u001b[0m\u001b[1;33m\u001b[0m\u001b[0m\n\u001b[0m\u001b[0;32m     17\u001b[0m     \u001b[1;31m#print(filename)\u001b[0m\u001b[1;33m\u001b[0m\u001b[1;33m\u001b[0m\u001b[0m\n\u001b[0;32m     18\u001b[0m \u001b[1;33m\u001b[0m\u001b[0m\n",
      "\u001b[1;31mFileNotFoundError\u001b[0m: [WinError 3] The system cannot find the path specified: 'C:/Users/uday/Desktop/result/Mstream_Tweets'"
     ]
    }
   ],
   "source": [
    "import os\n",
    "import re\n",
    "from sklearn import metrics\n",
    "from statistics import mean\n",
    "a=[]\n",
    "b=[]\n",
    "t_a=[]\n",
    "t_b=[]\n",
    "ans=[]\n",
    "g_nmi_M_tweet=[None] *16\n",
    "g_complete_score_M=[None]*16\n",
    "g_homogenity_M=[None]*16\n",
    "di = r\"C:\\Users\\sachin\\Desktop\\mtp\\sachin\\result\"\n",
    "i=0\n",
    "\n",
    "for filename in os.listdir(di):\n",
    "    #print(filename)\n",
    "    \n",
    "    \n",
    "    temp=di+'/'+filename+\"/Tweets-TSampleNo1ClusteringResult.txt\"\n",
    "  #  print(temp)\n",
    "    file1=open(temp,\"r\")\n",
    "    #print(file1)\n",
    "\n",
    "    lines = file1.readlines()\n",
    "    \n",
    "    for line in lines:\n",
    "        line = line.strip()\n",
    "\n",
    "        arr = re.split(\" \", line)\n",
    "        t_a.append(true_c[int(arr[0])])\n",
    "        t_b.append(arr[1])\n",
    "        a.append(true_c[int(arr[0])])\n",
    "        b.append(arr[1])\n",
    "    nmi_score = metrics.normalized_mutual_info_score(a, b)  \n",
    "    ans.append(nmi_score)\n",
    "    k=b_num(filename)\n",
    "    #print(k)\n",
    "    #g_complete_score_M[k]=\n",
    "    g_nmi_M_tweet[k-1]=nmi_score\n",
    "    print(g_nmi_M_tweet[k-1])\n",
    "    #g_nmi_M.append(nmi_score)\n",
    "    print(nmi_score)\n",
    "    score=metrics.completeness_score(a, b)\n",
    "    #print (\"completeness_score-whole-data:   %0.8f\" % score)\n",
    "    g_complete_score_M[k-1]=score\n",
    "    score = metrics.homogeneity_score(a, b)\n",
    "    g_homogenity_M[k-1]=score\n",
    "    \n",
    "    \n",
    "    a.clear()\n",
    "    b.clear()\n",
    "nmi_score = metrics.normalized_mutual_info_score(t_a, t_b)\n",
    "complete_score=metrics.completeness_score(t_a, t_b)\n",
    "print(\"total_complete\",+complete_score)\n",
    "print(\"total\",+ nmi_score)   \n",
    "print(\"mean\",+mean(ans))\n",
    "    "
   ]
  },
  {
   "cell_type": "code",
   "execution_count": null,
   "metadata": {
    "id": "8opGQdpKgEsL",
    "outputId": "a2430145-bed6-46f8-b77a-0b87cd49d92c"
   },
   "outputs": [
    {
     "data": {
      "text/plain": [
       "[0.7190411714246504,\n",
       " 0.7644787452805539,\n",
       " 0.8474189868112146,\n",
       " 0.74500573947838,\n",
       " 0.8480025683675478,\n",
       " 0.7694494348977625,\n",
       " 0.8902750535207444,\n",
       " 0.9316686241135245,\n",
       " 0.9253583194098068,\n",
       " 0.8312578331056938,\n",
       " 0.7925849811435614,\n",
       " 0.7224911135794324,\n",
       " 0.7840665010900121,\n",
       " 0.9423953158542754,\n",
       " 0.7649797475291839,\n",
       " 0.8871118347078814]"
      ]
     },
     "execution_count": 118,
     "metadata": {},
     "output_type": "execute_result"
    }
   ],
   "source": [
    "g_nmi_M_tweet"
   ]
  },
  {
   "cell_type": "code",
   "execution_count": null,
   "metadata": {
    "id": "8je7zUrkgEsM",
    "outputId": "feaffe06-0c06-4d4a-c707-4c31f77eba07"
   },
   "outputs": [
    {
     "name": "stdout",
     "output_type": "stream",
     "text": [
      "0.7178153268337885\n",
      "0.836965298905647\n",
      "0.7548051277761072\n",
      "0.7656513120826343\n",
      "0.7832478196707148\n",
      "0.9056536338418367\n",
      "0.7754848138441245\n",
      "0.8641282611916778\n",
      "0.7604154751247336\n",
      "0.8778668325710813\n",
      "0.8096730000021538\n",
      "0.8810442136444354\n",
      "0.8312702637759796\n",
      "0.8890741928717664\n",
      "0.9387352256848187\n",
      "0.9355108048984274\n",
      "total_complete 0.8697741108683188\n",
      "total 0.8731899024973334\n",
      "mean 0.8329588501699954\n"
     ]
    }
   ],
   "source": [
    "import os\n",
    "import re\n",
    "from sklearn import metrics\n",
    "from statistics import mean\n",
    "a=[]\n",
    "b=[]\n",
    "t_a=[]\n",
    "t_b=[]\n",
    "ans=[]\n",
    "g_nmi_MF_tweet=[None] *16\n",
    "g_complete_score_M=[None]*16\n",
    "g_homogenity_M=[None]*16\n",
    "di = r\"C:\\Users\\sachin\\Desktop\\mtp\\sachin\\result\"\n",
    "i=0\n",
    "\n",
    "for filename in os.listdir(di):\n",
    "    #print(filename)\n",
    "    \n",
    "    \n",
    "    temp=di+'/'+filename+\"/Tweets-TSampleNo1ClusteringResult.txt\"\n",
    "  #  print(temp)\n",
    "    file1=open(temp,\"r\")\n",
    "    #print(file1)\n",
    "\n",
    "    lines = file1.readlines()\n",
    "    \n",
    "    for line in lines:\n",
    "        line = line.strip()\n",
    "\n",
    "        arr = re.split(\" \", line)\n",
    "        t_a.append(true_c[int(arr[0])])\n",
    "        t_b.append(arr[1])\n",
    "        a.append(true_c[int(arr[0])])\n",
    "        b.append(arr[1])\n",
    "    nmi_score = metrics.normalized_mutual_info_score(a, b)  \n",
    "    ans.append(nmi_score)\n",
    "    k=b_num(filename)\n",
    "    #print(k)\n",
    "    #g_complete_score_M[k]=\n",
    "    g_nmi_MF_tweet[k-1]=nmi_score\n",
    "    #g_nmi_M.append(nmi_score)\n",
    "    print(nmi_score)\n",
    "    score=metrics.completeness_score(a, b)\n",
    "    #print (\"completeness_score-whole-data:   %0.8f\" % score)\n",
    "    g_complete_score_M[k-1]=score\n",
    "    score = metrics.homogeneity_score(a, b)\n",
    "    g_homogenity_M[k-1]=score\n",
    "    \n",
    "    \n",
    "    a.clear()\n",
    "    b.clear()\n",
    "nmi_score = metrics.normalized_mutual_info_score(t_a, t_b)\n",
    "complete_score=metrics.completeness_score(t_a, t_b)\n",
    "print(\"total_complete\",+complete_score)\n",
    "print(\"total\",+ nmi_score)   \n",
    "print(\"mean\",+mean(ans))\n",
    "    "
   ]
  },
  {
   "cell_type": "code",
   "execution_count": null,
   "metadata": {
    "id": "RXg-iFougEsM",
    "outputId": "24c44285-66c2-496f-a5c3-6f16c69230d2"
   },
   "outputs": [
    {
     "data": {
      "image/png": "[encoded data removed]",
      "text/plain": [
       "<Figure size 432x288 with 1 Axes>"
      ]
     },
     "metadata": {},
     "output_type": "display_data"
    }
   ],
   "source": [
    "import matplotlib.pyplot as plt \n",
    "\n",
    "  \n",
    "g_x=[]\n",
    "for i in range(1,17):\n",
    "    g_x.append(i)\n",
    "\n",
    "\n",
    "# plotting the line 1 points  \n",
    "plt.plot(g_x,g_nmi_M , label = \"News\") \n",
    "  \n",
    "plt.plot(g_x, g_nmi_M_tweet, label = \"Tweets\") \n",
    "\n",
    "\n",
    "\n",
    "# naming the x axis \n",
    "plt.xlabel('Batch number') \n",
    "# naming the y axis \n",
    "plt.ylabel('NMI Score') \n",
    "# giving a title to my graph \n",
    "plt.title('NMI value for Mstream ') \n",
    "  \n",
    "# show a legend on the plot \n",
    "plt.legend() \n",
    "  \n",
    "# function to show the plot \n",
    "plt.show() "
   ]
  },
  {
   "cell_type": "code",
   "execution_count": null,
   "metadata": {
    "id": "Eov2nUrigEsM",
    "outputId": "762e9a61-7b50-4a43-dbc6-65b53a180477",
    "scrolled": true
   },
   "outputs": [
    {
     "data": {
      "image/png": "[encoded data removed]",
      "text/plain": [
       "<Figure size 432x288 with 1 Axes>"
      ]
     },
     "metadata": {},
     "output_type": "display_data"
    }
   ],
   "source": [
    "import matplotlib.pyplot as plt \n",
    "\n",
    "  \n",
    "g_x=[]\n",
    "for i in range(1,17):\n",
    "    g_x.append(i)\n",
    "\n",
    "\n",
    "# plotting the line 1 points  \n",
    "plt.plot(g_x,g_nmi_M_tweet , label = \"Mstream\") \n",
    "  \n",
    "plt.plot(g_x, g_nmi_MF_tweet, label = \"Mstream-F\") \n",
    "\n",
    "\n",
    "\n",
    "# naming the x axis \n",
    "plt.xlabel('Batch number') \n",
    "# naming the y axis \n",
    "plt.ylabel('NMI Score') \n",
    "# giving a title to my graph \n",
    "plt.title('NMI value for News-T') \n",
    "  \n",
    "# show a legend on the plot \n",
    "plt.legend() \n",
    "  \n",
    "# function to show the plot \n",
    "plt.show() "
   ]
  },
  {
   "cell_type": "code",
   "execution_count": null,
   "metadata": {
    "id": "PH8mE2JHgEsM"
   },
   "outputs": [],
   "source": []
  },
  {
   "cell_type": "code",
   "execution_count": null,
   "metadata": {
    "id": "v1nchBjBgEsM",
    "outputId": "e7c38637-591d-4a70-c27e-2cb3b10b4245"
   },
   "outputs": [
    {
     "data": {
      "text/plain": [
       "[0.8595034300677995,\n",
       " 0.8144874351566418,\n",
       " 0.808996022180374,\n",
       " 0.8075288492314363,\n",
       " 0.8383450061638418,\n",
       " 0.8792186913225698,\n",
       " 0.8732994196783197,\n",
       " 0.9439591269341051,\n",
       " 0.9039777885916018,\n",
       " 0.9220617865181757,\n",
       " 0.9664592622123215,\n",
       " 0.918625850061983,\n",
       " 0.9251417138738613,\n",
       " 0.8563764794834829,\n",
       " 0.7827990915081474,\n",
       " 0.654914552825251]"
      ]
     },
     "execution_count": 112,
     "metadata": {},
     "output_type": "execute_result"
    }
   ],
   "source": [
    "tweets_mf_tweets_t"
   ]
  },
  {
   "cell_type": "code",
   "execution_count": null,
   "metadata": {
    "id": "R_tMFeBJgEsN"
   },
   "outputs": [],
   "source": [
    "tweets_mf_News_t=[]\n",
    "tweets_mf_News_t=g_nmi_MF_tweet"
   ]
  },
  {
   "cell_type": "code",
   "execution_count": null,
   "metadata": {
    "id": "btNOYk8bgEsN",
    "outputId": "41f0b6e7-c1a7-48f1-e7d2-c94bdd1895a5"
   },
   "outputs": [
    {
     "data": {
      "text/plain": [
       "[0.7178153268337885,\n",
       " 0.7604154751247336,\n",
       " 0.8778668325710813,\n",
       " 0.8096730000021538,\n",
       " 0.8810442136444354,\n",
       " 0.8312702637759796,\n",
       " 0.8890741928717664,\n",
       " 0.9387352256848187,\n",
       " 0.9355108048984274,\n",
       " 0.836965298905647,\n",
       " 0.7548051277761072,\n",
       " 0.7656513120826343,\n",
       " 0.7832478196707148,\n",
       " 0.9056536338418367,\n",
       " 0.7754848138441245,\n",
       " 0.8641282611916778]"
      ]
     },
     "execution_count": 122,
     "metadata": {},
     "output_type": "execute_result"
    }
   ],
   "source": [
    "tweets_mf_News_t"
   ]
  },
  {
   "cell_type": "code",
   "execution_count": null,
   "metadata": {
    "id": "vTrh22OMgEsN",
    "outputId": "1966171d-9084-44f3-ce5b-198c6bcbea5d"
   },
   "outputs": [
    {
     "data": {
      "image/png": "[encoded data removed]",
      "text/plain": [
       "<Figure size 432x288 with 1 Axes>"
      ]
     },
     "metadata": {},
     "output_type": "display_data"
    }
   ],
   "source": [
    "import matplotlib.pyplot as plt \n",
    "\n",
    "  \n",
    "g_x=[]\n",
    "for i in range(1,17):\n",
    "    g_x.append(i)\n",
    "\n",
    "\n",
    "# plotting the line 1 points  \n",
    "plt.plot(g_x,tweets_mf_News_t , label = \"News-T\") \n",
    "  \n",
    "plt.plot(g_x, tweets_mf_tweets_t, label = \"Tweets-T\") \n",
    "\n",
    "\n",
    "\n",
    "# naming the x axis \n",
    "plt.xlabel('Batch number') \n",
    "# naming the y axis \n",
    "plt.ylabel('NMI Score') \n",
    "# giving a title to my graph \n",
    "plt.title('MstreamF value for News-T and tweet-T') \n",
    "  \n",
    "# show a legend on the plot \n",
    "plt.legend() \n",
    "  \n",
    "# function to show the plot \n",
    "plt.show() "
   ]
  },
  {
   "cell_type": "code",
   "execution_count": null,
   "metadata": {
    "id": "-osCpJ7JgEsO"
   },
   "outputs": [],
   "source": [
    "g_no_of_clusters_M\n",
    "g_no_of_clusters_MF\n",
    "g_no_of_clusters_M_Tweets\n",
    "g_no_of_clusters_MF_Tweets\n",
    "\n",
    "g_no_of_clusters_M_News_T\n",
    "g_no_of_clusters_MF_News_T\n",
    "\n",
    "g_no_of_clusters_M_Tweets_T\n",
    "g_no_of_clusters_MF_Tweets_T"
   ]
  },
  {
   "cell_type": "code",
   "execution_count": null,
   "metadata": {
    "id": "PC2YzS53gEsO",
    "outputId": "53b807f1-1276-4c98-f037-002135fb7b88"
   },
   "outputs": [
    {
     "data": {
      "image/png": "[encoded data removed]",
      "text/plain": [
       "<Figure size 432x288 with 1 Axes>"
      ]
     },
     "metadata": {},
     "output_type": "display_data"
    }
   ],
   "source": [
    "import matplotlib.pyplot as plt \n",
    "\n",
    "  \n",
    "g_x=[]\n",
    "for i in range(1,17):\n",
    "    g_x.append(i)\n",
    "\n",
    "\n",
    "# plotting the line 1 points  \n",
    "plt.plot(g_x, g_no_of_clusters_M_Tweets_T, label = \"M-stream in Tweets-T\") \n",
    "plt.plot(g_x,g_no_of_clusters_M_News_T , label = \"Mstream in News-T\") \n",
    "  \n",
    "\n",
    "plt.plot(g_x, g_no_of_clusters_MF_Tweets_T, label = \"M-streamF in Tweets-T\") \n",
    "plt.plot(g_x, g_no_of_clusters_MF_News_T, label = \"MstreamF in News-T\") \n",
    "\n",
    "\n",
    "\n",
    "# naming the x axis \n",
    "plt.xlabel('Batch number') \n",
    "# naming the y axis \n",
    "plt.ylabel('Number of clusters ') \n",
    "# giving a title to my graph \n",
    "#plt.title('MstreamF value for News-T and tweet-T') \n",
    "  \n",
    "# show a legend on the plot \n",
    "plt.legend() \n",
    "  \n",
    "# function to show the plot \n",
    "plt.show() "
   ]
  },
  {
   "cell_type": "code",
   "execution_count": null,
   "metadata": {
    "id": "8ZomhhGNgEsO",
    "outputId": "2886ceb6-3a89-40b5-b713-97c106d0c410"
   },
   "outputs": [
    {
     "data": {
      "text/plain": [
       "[94, 132, 101, 81, 71, 59, 47, 55, 54, 53, 55, 44, 41, 69, 77, 59]"
      ]
     },
     "execution_count": 152,
     "metadata": {},
     "output_type": "execute_result"
    }
   ],
   "source": [
    "g_no_of_clusters_M_Tweets_T"
   ]
  },
  {
   "cell_type": "code",
   "execution_count": null,
   "metadata": {
    "id": "16ZWgz22gEsO",
    "outputId": "0c1d383e-cb88-4740-a51d-d0300a79269a"
   },
   "outputs": [
    {
     "data": {
      "text/plain": [
       "[56, 87, 103, 121, 137, 146, 161, 173, 185, 211, 236, 263, 289, 322, 352, 363]"
      ]
     },
     "execution_count": 153,
     "metadata": {},
     "output_type": "execute_result"
    }
   ],
   "source": [
    "g_no_of_clusters_M_News_T"
   ]
  },
  {
   "cell_type": "code",
   "execution_count": null,
   "metadata": {
    "id": "sSZ7_LpXgEsP",
    "outputId": "e245b8aa-88a7-4cc7-b7f1-83c69acfba02"
   },
   "outputs": [
    {
     "data": {
      "image/png": "[encoded data removed]",
      "text/plain": [
       "<Figure size 432x288 with 1 Axes>"
      ]
     },
     "metadata": {},
     "output_type": "display_data"
    }
   ],
   "source": [
    "import matplotlib.pyplot as plt \n",
    "\n",
    "  \n",
    "g_x=[]\n",
    "for i in range(1,17):\n",
    "    g_x.append(i)\n",
    "\n",
    "\n",
    "# plotting the line 1 points  \n",
    "plt.plot(g_x, g_no_of_clusters_M_Tweets_T, label = \"M-stream in Tweets-T\") \n",
    "plt.plot(g_x,g_no_of_clusters_M_News_T , label = \"Mstream in News-T\") \n",
    "  \n",
    "\n",
    "#plt.plot(g_x, g_no_of_clusters_MF_Tweets_T, label = \"M-streamF in Tweets-T\") \n",
    "#plt.plot(g_x, g_no_of_clusters_MF_News_T, label = \"MstreamF in News-T\") \n",
    "\n",
    "\n",
    "\n",
    "# naming the x axis \n",
    "plt.xlabel('Batch number') \n",
    "# naming the y axis \n",
    "plt.ylabel('Number of clusters ') \n",
    "# giving a title to my graph \n",
    "#plt.title('MstreamF value for News-T and tweet-T') \n",
    "  \n",
    "# show a legend on the plot \n",
    "plt.legend() \n",
    "  \n",
    "# function to show the plot \n",
    "plt.show() "
   ]
  },
  {
   "cell_type": "code",
   "execution_count": null,
   "metadata": {
    "id": "xuBRjwUlgEsP",
    "outputId": "9bf5effe-cdb9-4ffa-fa56-b56176c168e8"
   },
   "outputs": [
    {
     "data": {
      "text/plain": [
       "[94, 132, 101, 81, 71, 59, 47, 55, 54, 53, 55, 44, 41, 69, 77, 59]"
      ]
     },
     "execution_count": 162,
     "metadata": {},
     "output_type": "execute_result"
    }
   ],
   "source": [
    "g_no_of_clusters_MF_Tweets_T"
   ]
  },
  {
   "cell_type": "code",
   "execution_count": null,
   "metadata": {
    "id": "clmAvNVsgEsQ",
    "outputId": "3aa5961e-1fe7-45b2-83fe-ae930054ba6c"
   },
   "outputs": [
    {
     "data": {
      "text/plain": [
       "[94, 132, 101, 81, 71, 59, 47, 55, 54, 53, 55, 44, 41, 69, 77, 59]"
      ]
     },
     "execution_count": 163,
     "metadata": {},
     "output_type": "execute_result"
    }
   ],
   "source": [
    "g_no_of_clusters_M_Tweets_T"
   ]
  },
  {
   "cell_type": "code",
   "execution_count": null,
   "metadata": {
    "id": "1GgtE5PGgEsQ"
   },
   "outputs": [],
   "source": [
    "g_no_of_clusters_MU\n",
    "g_no_of_clusters_MFU"
   ]
  },
  {
   "cell_type": "code",
   "execution_count": null,
   "metadata": {
    "id": "88qDNoHRgEsQ",
    "outputId": "51636da3-cad5-4c33-f656-b7f4b436942c"
   },
   "outputs": [
    {
     "data": {
      "image/png": "[encoded data removed]",
      "text/plain": [
       "<Figure size 432x288 with 1 Axes>"
      ]
     },
     "metadata": {},
     "output_type": "display_data"
    }
   ],
   "source": [
    "import matplotlib.pyplot as plt \n",
    "\n",
    "  \n",
    "g_x=[]\n",
    "for i in range(1,17):\n",
    "    g_x.append(i)\n",
    "\n",
    "\n",
    "# plotting the line 1 points  \n",
    "plt.plot(g_x, g_no_of_clusters_MU, label = \"M-stream in News_u\") \n",
    "plt.plot(g_x, g_no_of_clusters_MFU, label = \"M-streamF in News_u\") \n",
    "plt.plot(g_x, g_no_of_clusters_M, label = \"M-stream in news\") \n",
    "plt.plot(g_x, g_no_of_clusters_MF, label = \"M-streamF in news\") \n",
    "\n",
    "\n",
    "\n",
    "# naming the x axis \n",
    "plt.xlabel('Batch number') \n",
    "# naming the y axis \n",
    "plt.ylabel('Number of clusters ') \n",
    "# giving a title to my graph \n",
    "#plt.title('MstreamF value for News-T and tweet-T') \n",
    "  \n",
    "# show a legend on the plot \n",
    "plt.legend() \n",
    "  \n",
    "# function to show the plot \n",
    "plt.show() "
   ]
  },
  {
   "cell_type": "code",
   "execution_count": null,
   "metadata": {
    "id": "SMcv8REHgEsQ",
    "outputId": "83cc5f48-ed7f-4b58-995f-3fefaa6ca0b8"
   },
   "outputs": [
    {
     "data": {
      "text/plain": [
       "[None,\n",
       " None,\n",
       " None,\n",
       " None,\n",
       " None,\n",
       " None,\n",
       " None,\n",
       " None,\n",
       " None,\n",
       " None,\n",
       " None,\n",
       " None,\n",
       " None,\n",
       " None,\n",
       " None,\n",
       " None]"
      ]
     },
     "execution_count": 177,
     "metadata": {},
     "output_type": "execute_result"
    }
   ],
   "source": [
    "g_no_of_clusters_MF\n"
   ]
  },
  {
   "cell_type": "code",
   "execution_count": null,
   "metadata": {
    "id": "n8aCR9HTgEsQ"
   },
   "outputs": [],
   "source": []
  }
 ],
 "metadata": {
  "colab": {
   "name": "result_given_data (1).ipynb",
   "provenance": []
  },
  "kernelspec": {
   "display_name": "Python 3",
   "language": "python",
   "name": "python3"
  },
  "language_info": {
   "codemirror_mode": {
    "name": "ipython",
    "version": 3
   },
   "file_extension": ".py",
   "mimetype": "text/x-python",
   "name": "python",
   "nbconvert_exporter": "python",
   "pygments_lexer": "ipython3",
   "version": "3.8.3"
  }
 },
 "nbformat": 4,
 "nbformat_minor": 1
}
